{
 "cells": [
  {
   "cell_type": "code",
   "execution_count": 1,
   "metadata": {},
   "outputs": [],
   "source": [
    "import plotly, pandas, numpy, scipy\n",
    "import plotly.plotly as py\n",
    "import plotly.graph_objs as go\n",
    "\n",
    "from plotly.graph_objs.scatter import Marker\n",
    "\n",
    "# Importando os dados\n",
    "DATA = pandas.read_csv(\"./ILS_Shrink.csv\") #.sort_values(by=['Nome'])\n",
    "\n",
    "# Avaliações\n",
    "BUDGETS = pandas.unique(DATA.Numero_total_de_comparacoes)\n",
    "BUDGETS.sort()\n",
    "\n",
    "budgets = {}\n",
    "for i in BUDGETS:\n",
    "    budgets[i] = DATA[DATA.Numero_total_de_comparacoes == i]\n",
    "\n",
    "# Fitness máximo possível para cada instância do problema\n",
    "MAX_FITNESS = {\n",
    "    \"warmup\": [21, 210],\n",
    "    \"anchors\": [21, 210],\n",
    "    \"ranges\": [21, 210],\n",
    "    \"backrefs\": [21, 210],\n",
    "    \"abba\": [22, 220],\n",
    "    \"aman-aplan\": [19, 190],\n",
    "    \"prime\": [20, 300],\n",
    "    \"four\": [21, 210],\n",
    "    \"order\": [21, 210],\n",
    "    \"triples\": [21, 630],\n",
    "    \"glob\": [21, 420],\n",
    "    \"balance\": [32, 320],\n",
    "    \"powers\": [11, 110],\n",
    "    \"long-count\": [1, 270],\n",
    "    \"alphabetical\": [17, 340],\n",
    "}\n",
    "\n",
    "# Fitness que o Bartoli conseguiu segundo expressão regular gerada\n",
    "BARTOLI_FITNESS = {\n",
    "    \"warmup\": [21, 207],\n",
    "    \"anchors\": [21, 208],\n",
    "    \"ranges\": [21, 195],\n",
    "    \"backrefs\": [18, 138],\n",
    "    \"abba\": [20, 184],\n",
    "    \"aman-aplan\": [16, 136],\n",
    "    \"prime\": [13, 188],\n",
    "    \"four\": [21, 183],\n",
    "    \"order\": [21, 186],\n",
    "    \"triples\": [15, 430],\n",
    "    \"glob\": [19, 340],\n",
    "    \"balance\": [29, 130],\n",
    "    \"powers\": [7, 51],\n",
    "    \"long-count\": [1, 191],\n",
    "    \"alphabetical\": [12, 132],\n",
    "}\n",
    "\n",
    "# Fitness que o Norvig conseguiu segundo expressão regular gerada\n",
    "NORVIG_FITNESS = {\n",
    "    \"warmup\": [21, 207],\n",
    "    \"anchors\": [21, 208],\n",
    "    \"ranges\": [21, 191],\n",
    "    \"backrefs\": [21, 175],\n",
    "    \"abba\": [21, 186],\n",
    "    \"aman-aplan\": [19, 157],\n",
    "    \"prime\": [19, -398],\n",
    "    \"four\": [21, 192],\n",
    "    \"order\": [21, 190],\n",
    "    \"triples\": [21, 589],\n",
    "    \"glob\": [0, 392],\n",
    "    \"balance\": [31, -1457],\n",
    "    \"powers\": [11, -1969],\n",
    "    \"long-count\": [1, 189],\n",
    "    \"alphabetical\": [17, 294],\n",
    "}\n",
    "\n",
    "\n",
    "COLOR_GREEN = \"#00b100\"\n",
    "COLOR_RED   = \"#cc0000\"\n",
    "COLOR_BLUE  = \"#0000cc\"\n",
    "COLOR_PURPLE = \"#663399\"\n",
    "COLOR_ORANGE = \"#ff4500\"\n",
    "COLOR_GRAY   = \"#827689\"\n",
    "\n",
    "\n",
    "\n",
    "COLORS = [\"#0dba86\", \"#0d98ba\", \"#0d42ba\"]\n",
    "\n",
    "\n",
    "OUR_FITNESS_LINE = go.Scatter(\n",
    "    name=\"Pontuação Máxima\",\n",
    "    x=list(MAX_FITNESS.keys()),\n",
    "    y=[i[0] for i in MAX_FITNESS.values()],\n",
    "    mode='lines',\n",
    ")\n",
    "\n",
    "FITNESS_LINE = go.Scatter(\n",
    "    name=\"Pontuação Máxima\",\n",
    "    x=list(MAX_FITNESS.keys()),\n",
    "    y=[i[1] for i in MAX_FITNESS.values()],\n",
    "    mode='markers',\n",
    "    marker=dict(color=COLOR_GRAY, symbol=\"triangle-up\"),\n",
    ")\n",
    "\n",
    "BARTOLI_LINE = go.Scatter(\n",
    "    name=\"Genético (Bartoli)\",\n",
    "    x=list(BARTOLI_FITNESS.keys()),\n",
    "    y=[i[1] for i in BARTOLI_FITNESS.values()],\n",
    "    mode='markers',\n",
    "    marker=dict(color=COLOR_RED, symbol=\"square\"),\n",
    ")\n",
    "\n",
    "NORVIG_LINE = go.Scatter(\n",
    "    name=\"Exato (Norvig)\",\n",
    "    x=list(NORVIG_FITNESS.keys()),\n",
    "    y=[i[1] for i in NORVIG_FITNESS.values()],\n",
    "    mode='markers',\n",
    "    marker=dict(color=COLOR_ORANGE, symbol=\"diamond\"),\n",
    ")\n",
    "\n",
    "ONE_MINUTE_LINE = go.Scatter(name=\"1 minute\",\n",
    "                             x=DATA.Nome,\n",
    "                             y=[60 * 1000 for i in DATA.Nome],\n",
    "                             mode='lines')\n",
    "\n",
    "TWO_MINUTES_LINE = go.Scatter(name=\"2 minutes\",\n",
    "                              x=DATA.Nome,\n",
    "                              y=[120 * 1000 for i in DATA.Nome],\n",
    "                              mode='lines')\n"
   ]
  },
  {
   "cell_type": "code",
   "execution_count": 2,
   "metadata": {},
   "outputs": [
    {
     "data": {
      "text/html": [
       "<iframe id=\"igraph\" scrolling=\"no\" style=\"border:none;\" seamless=\"seamless\" src=\"https://plot.ly/~andrefarzat/1475.embed\" height=\"525px\" width=\"100%\"></iframe>"
      ],
      "text/plain": [
       "<plotly.tools.PlotlyDisplay object>"
      ]
     },
     "execution_count": 2,
     "metadata": {},
     "output_type": "execute_result"
    }
   ],
   "source": [
    "data = [go.Box(name=\"%dk\" % (i / 1000), x=budgets.Nome, y=budgets.Tempo_total) for i, budgets in budgets.items()]\n",
    "data.append(ONE_MINUTE_LINE)\n",
    "# data.append(TWO_MINUTES_LINE)\n",
    "\n",
    "layout = go.Layout(title=\"Tempo total de execução em milissegundos\",\n",
    "                xaxis=dict(title='Budget'),\n",
    "                yaxis=dict(title='Tempo Total'),\n",
    "                boxmode='group')\n",
    "fig = go.Figure(data=data, layout=layout)\n",
    "py.iplot(fig)"
   ]
  },
  {
   "cell_type": "code",
   "execution_count": 3,
   "metadata": {},
   "outputs": [
    {
     "data": {
      "text/html": [
       "<iframe id=\"igraph\" scrolling=\"no\" style=\"border:none;\" seamless=\"seamless\" src=\"https://plot.ly/~andrefarzat/1477.embed\" height=\"525px\" width=\"100%\"></iframe>"
      ],
      "text/plain": [
       "<plotly.tools.PlotlyDisplay object>"
      ]
     },
     "execution_count": 3,
     "metadata": {},
     "output_type": "execute_result"
    }
   ],
   "source": [
    "# Médias de número de comparações para encontrar melhor fitness\n",
    "MAX_LINE = go.Scatter(name=\"600k line\", x=DATA.Nome.unique(), y=[600000 for i in range(15)], mode='lines', marker=Marker(color='rgb(77,77,255)'))\n",
    "\n",
    "\n",
    "data = [go.Box(name=\"%dk\" % (i / 1000), x=budget.Nome, y=budget.Numero_de_comparacoes) for i, budget in budgets.items()]\n",
    "data.append(MAX_LINE)\n",
    "\n",
    "\n",
    "layout = go.Layout(title=\"Número de comparações até encontrar Melhor Fitness\",\n",
    "                xaxis=dict(title='Instâncias'),\n",
    "                yaxis=dict(title='Quantidade de comprações'),\n",
    "                boxmode='group')\n",
    "fig = go.Figure(data=data, layout=layout)\n",
    "\n",
    "py.iplot(fig)"
   ]
  },
  {
   "cell_type": "code",
   "execution_count": 4,
   "metadata": {},
   "outputs": [
    {
     "data": {
      "text/html": [
       "<iframe id=\"igraph\" scrolling=\"no\" style=\"border:none;\" seamless=\"seamless\" src=\"https://plot.ly/~andrefarzat/1479.embed\" height=\"525px\" width=\"100%\"></iframe>"
      ],
      "text/plain": [
       "<plotly.tools.PlotlyDisplay object>"
      ]
     },
     "execution_count": 4,
     "metadata": {},
     "output_type": "execute_result"
    }
   ],
   "source": [
    "data = [go.Box(name=\"%dk\" % (i / 1000), x=budget.Nome, y=budget.Tempo_para_encontrar_melhor_solucao) for i, budget in budgets.items()]\n",
    "data.append(ONE_MINUTE_LINE)\n",
    "data.append(TWO_MINUTES_LINE)\n",
    "\n",
    "layout = go.Layout(title=\"Tempo até encontrar a melhor solução (em milissegundos)\",\n",
    "                xaxis=dict(title='Instâncias'),\n",
    "                yaxis=dict(title='Tempo até melhor solução'),\n",
    "                boxmode='group')\n",
    "fig = go.Figure(data=data, layout=layout)\n",
    "\n",
    "py.iplot(fig)"
   ]
  },
  {
   "cell_type": "code",
   "execution_count": 5,
   "metadata": {},
   "outputs": [
    {
     "data": {
      "text/html": [
       "<iframe id=\"igraph\" scrolling=\"no\" style=\"border:none;\" seamless=\"seamless\" src=\"https://plot.ly/~andrefarzat/1481.embed\" height=\"525px\" width=\"100%\"></iframe>"
      ],
      "text/plain": [
       "<plotly.tools.PlotlyDisplay object>"
      ]
     },
     "execution_count": 5,
     "metadata": {},
     "output_type": "execute_result"
    }
   ],
   "source": [
    "# Boxplot comparando 'melhor fitness'\n",
    "\n",
    "data = [go.Box(name=\"%dk\" % (i / 1000), x=budget.Nome, y=budget.Melhor_fitness) for i, budget in budgets.items()]\n",
    "data.extend([FITNESS_LINE, BARTOLI_LINE, NORVIG_LINE])\n",
    "\n",
    "\n",
    "layout = go.Layout(title=\"Melhor fitness\",\n",
    "                xaxis=dict(title='Instâncias'),\n",
    "                yaxis=dict(title='fitness'),\n",
    "                boxmode='group')\n",
    "fig = go.Figure(data=data, layout=layout)\n",
    "\n",
    "py.iplot(fig)"
   ]
  },
  {
   "cell_type": "code",
   "execution_count": 7,
   "metadata": {},
   "outputs": [
    {
     "name": "stdout",
     "output_type": "stream",
     "text": [
      "warmup 1.0\n",
      "ranges 1.0\n",
      "anchors 0.03\n",
      "backrefs 0.04\n",
      "abba 0.71\n",
      "aman-aplan 0.01\n",
      "prime 1.00\n",
      "four 0.32\n",
      "glob 0.20\n",
      "order 0.01\n",
      "triples 0.23\n",
      "balance 0.07\n",
      "long-count 1.0\n",
      "powers 1.00\n",
      "alphabetical 1.00\n"
     ]
    }
   ],
   "source": [
    "from scipy import stats\n",
    "\n",
    "data = [list(b.Melhor_fitness) for i, b in budgets.items()]\n",
    "\n",
    "# result = stats.kruskal(*data)\n",
    "# result\n",
    "\n",
    "def printar_pontuacao():\n",
    "    names = budgets[300000].Nome.unique()\n",
    "\n",
    "    for name in names:\n",
    "        txt = [name]\n",
    "        for i, b in budgets.items():\n",
    "            d = b[b.Nome == name]\n",
    "            txt.append(d.Melhor_fitness.min())\n",
    "            txt.append(d.Melhor_fitness.max())\n",
    "            txt.append(\"%d\" % round(d.Melhor_fitness.mean()))\n",
    "#             txt.append(d.Melhor_fitness.median())\n",
    "        txt = map(str, txt)\n",
    "        print(\";\".join(txt))\n",
    "\n",
    "# printar_pontuacao()\n",
    "\n",
    "\n",
    "def printar_kruskal():\n",
    "    names = budgets[300000].Nome.unique()\n",
    "    total_data = {}\n",
    "\n",
    "    for name in names:\n",
    "        total_data[name] = []\n",
    "\n",
    "        for i, d in budgets.items():\n",
    "            data = d[d.Nome == name]\n",
    "            total_data[name].append(list(data.Melhor_fitness))\n",
    "\n",
    "        try:        \n",
    "            result = \"%.2f\" % stats.kruskal(*total_data[name]).pvalue\n",
    "        except ValueError:\n",
    "            result = 1.0\n",
    "\n",
    "        print(name, result)\n",
    "\n",
    "printar_kruskal()\n"
   ]
  },
  {
   "cell_type": "code",
   "execution_count": null,
   "metadata": {},
   "outputs": [],
   "source": []
  }
 ],
 "metadata": {
  "kernelspec": {
   "display_name": "Python 3",
   "language": "python",
   "name": "python3"
  },
  "language_info": {
   "codemirror_mode": {
    "name": "ipython",
    "version": 3
   },
   "file_extension": ".py",
   "mimetype": "text/x-python",
   "name": "python",
   "nbconvert_exporter": "python",
   "pygments_lexer": "ipython3",
   "version": "3.7.0"
  }
 },
 "nbformat": 4,
 "nbformat_minor": 2
}
