{
 "cells": [
  {
   "cell_type": "code",
   "execution_count": 1,
   "metadata": {},
   "outputs": [],
   "source": [
    "import plotly, pandas, numpy, scipy\n",
    "import plotly.plotly as py\n",
    "import plotly.graph_objs as go\n",
    "\n",
    "from plotly.graph_objs.scatter import Marker\n",
    "\n",
    "# Importando os dados\n",
    "DATA = pandas.read_csv(\"./ILS_Shrink.csv\") #.sort_values(by=['Nome'])\n",
    "\n",
    "# Avaliações\n",
    "BUDGETS = pandas.unique(DATA.Numero_total_de_comparacoes)\n",
    "BUDGETS.sort()\n",
    "\n",
    "budgets = {}\n",
    "for i in BUDGETS:\n",
    "    budgets[i] = DATA[DATA.Numero_total_de_comparacoes == i]\n",
    "\n",
    "# Fitness máximo possível para cada instância do problema\n",
    "MAX_FITNESS = {\n",
    "    \"warmup\": [21, 210],\n",
    "    \"anchors\": [21, 210],\n",
    "    \"ranges\": [21, 210],\n",
    "    \"backrefs\": [21, 210],\n",
    "    \"abba\": [22, 220],\n",
    "    \"aman-aplan\": [19, 190],\n",
    "    \"prime\": [20, 300],\n",
    "    \"four\": [21, 210],\n",
    "    \"order\": [21, 210],\n",
    "    \"triples\": [21, 630],\n",
    "    \"glob\": [21, 420],\n",
    "    \"balance\": [32, 320],\n",
    "    \"powers\": [11, 110],\n",
    "    \"long-count\": [1, 270],\n",
    "    \"alphabetical\": [17, 340],\n",
    "}\n",
    "\n",
    "# Fitness que o Bartoli conseguiu segundo expressão regular gerada\n",
    "BARTOLI_FITNESS = {\n",
    "    \"warmup\": [21, 207],\n",
    "    \"anchors\": [21, 208],\n",
    "    \"ranges\": [21, 195],\n",
    "    \"backrefs\": [18, 138],\n",
    "    \"abba\": [20, 184],\n",
    "    \"aman-aplan\": [16, 136],\n",
    "    \"prime\": [13, 188],\n",
    "    \"four\": [21, 183],\n",
    "    \"order\": [21, 186],\n",
    "    \"triples\": [15, 430],\n",
    "    \"glob\": [19, 340],\n",
    "    \"balance\": [29, 130],\n",
    "    \"powers\": [7, 51],\n",
    "    \"long-count\": [1, 191],\n",
    "    \"alphabetical\": [12, 132],\n",
    "}\n",
    "\n",
    "# Fitness que o Norvig conseguiu segundo expressão regular gerada\n",
    "NORVIG_FITNESS = {\n",
    "    \"warmup\": [21, 207],\n",
    "    \"anchors\": [21, 208],\n",
    "    \"ranges\": [21, 191],\n",
    "    \"backrefs\": [21, 175],\n",
    "    \"abba\": [21, 186],\n",
    "    \"aman-aplan\": [19, 157],\n",
    "    \"prime\": [19, -398],\n",
    "    \"four\": [21, 192],\n",
    "    \"order\": [21, 190],\n",
    "    \"triples\": [21, 589],\n",
    "    \"glob\": [0, 392],\n",
    "    \"balance\": [31, -1457],\n",
    "    \"powers\": [11, -1969],\n",
    "    \"long-count\": [1, 189],\n",
    "    \"alphabetical\": [17, 294],\n",
    "}\n",
    "\n",
    "\n",
    "COLOR_GREEN = \"#00b100\"\n",
    "COLOR_RED   = \"#cc0000\"\n",
    "COLOR_BLUE  = \"#0000cc\"\n",
    "COLOR_PURPLE = \"#663399\"\n",
    "COLOR_ORANGE = \"#ff4500\"\n",
    "COLOR_GRAY   = \"#827689\"\n",
    "\n",
    "\n",
    "\n",
    "COLORS = [\"#0dba86\", \"#0d98ba\", \"#0d42ba\"]\n",
    "\n",
    "\n",
    "OUR_FITNESS_LINE = go.Scatter(\n",
    "    name=\"Pontuação Máxima\",\n",
    "    x=list(MAX_FITNESS.keys()),\n",
    "    y=[i[0] for i in MAX_FITNESS.values()],\n",
    "    mode='lines',\n",
    ")\n",
    "\n",
    "FITNESS_LINE = go.Scatter(\n",
    "    name=\"Pontuação Máxima\",\n",
    "    x=list(MAX_FITNESS.keys()),\n",
    "    y=[i[1] for i in MAX_FITNESS.values()],\n",
    "    mode='markers',\n",
    "    marker=dict(color=COLOR_GRAY, symbol=\"triangle-up\"),\n",
    ")\n",
    "\n",
    "BARTOLI_LINE = go.Scatter(\n",
    "    name=\"Genético (Bartoli)\",\n",
    "    x=list(BARTOLI_FITNESS.keys()),\n",
    "    y=[i[1] for i in BARTOLI_FITNESS.values()],\n",
    "    mode='markers',\n",
    "    marker=dict(color=COLOR_RED, symbol=\"square\"),\n",
    ")\n",
    "\n",
    "NORVIG_LINE = go.Scatter(\n",
    "    name=\"Exato (Norvig)\",\n",
    "    x=list(NORVIG_FITNESS.keys()),\n",
    "    y=[i[1] for i in NORVIG_FITNESS.values()],\n",
    "    mode='markers',\n",
    "    marker=dict(color=COLOR_ORANGE, symbol=\"diamond\"),\n",
    ")\n",
    "\n",
    "ONE_MINUTE_LINE = go.Scatter(name=\"1 minute\",\n",
    "                             x=DATA.Nome,\n",
    "                             y=[60 * 1000 for i in DATA.Nome],\n",
    "                             mode='lines')\n",
    "\n",
    "TWO_MINUTES_LINE = go.Scatter(name=\"2 minutes\",\n",
    "                              x=DATA.Nome,\n",
    "                              y=[120 * 1000 for i in DATA.Nome],\n",
    "                              mode='lines')\n"
   ]
  },
  {
   "cell_type": "code",
   "execution_count": 2,
   "metadata": {},
   "outputs": [
    {
     "data": {
      "text/html": [
       "<iframe id=\"igraph\" scrolling=\"no\" style=\"border:none;\" seamless=\"seamless\" src=\"https://plot.ly/~andrefarzat/1459.embed\" height=\"525px\" width=\"100%\"></iframe>"
      ],
      "text/plain": [
       "<plotly.tools.PlotlyDisplay object>"
      ]
     },
     "execution_count": 2,
     "metadata": {},
     "output_type": "execute_result"
    }
   ],
   "source": [
    "data = [go.Box(name=\"%dk\" % (i / 1000), x=budgets.Nome, y=budgets.Tempo_total) for i, budgets in budgets.items()]\n",
    "data.append(ONE_MINUTE_LINE)\n",
    "# data.append(TWO_MINUTES_LINE)\n",
    "\n",
    "layout = go.Layout(title=\"Tempo total de execução em milissegundos\",\n",
    "                xaxis=dict(title='Budget'),\n",
    "                yaxis=dict(title='Tempo Total'),\n",
    "                boxmode='group')\n",
    "fig = go.Figure(data=data, layout=layout)\n",
    "py.iplot(fig)"
   ]
  },
  {
   "cell_type": "code",
   "execution_count": 3,
   "metadata": {},
   "outputs": [
    {
     "data": {
      "text/html": [
       "<iframe id=\"igraph\" scrolling=\"no\" style=\"border:none;\" seamless=\"seamless\" src=\"https://plot.ly/~andrefarzat/1461.embed\" height=\"525px\" width=\"100%\"></iframe>"
      ],
      "text/plain": [
       "<plotly.tools.PlotlyDisplay object>"
      ]
     },
     "execution_count": 3,
     "metadata": {},
     "output_type": "execute_result"
    }
   ],
   "source": [
    "# Médias de número de comparações para encontrar melhor fitness\n",
    "MAX_LINE = go.Scatter(name=\"600k line\", x=DATA.Nome.unique(), y=[600000 for i in range(15)], mode='lines', marker=Marker(color='rgb(77,77,255)'))\n",
    "\n",
    "\n",
    "data = [go.Box(name=\"%dk\" % (i / 1000), x=budget.Nome, y=budget.Numero_de_comparacoes) for i, budget in budgets.items()]\n",
    "data.append(MAX_LINE)\n",
    "\n",
    "\n",
    "layout = go.Layout(title=\"Número de comparações até encontrar Melhor Fitness\",\n",
    "                xaxis=dict(title='Instâncias'),\n",
    "                yaxis=dict(title='Quantidade de comprações'),\n",
    "                boxmode='group')\n",
    "fig = go.Figure(data=data, layout=layout)\n",
    "\n",
    "py.iplot(fig)"
   ]
  },
  {
   "cell_type": "code",
   "execution_count": 4,
   "metadata": {},
   "outputs": [
    {
     "data": {
      "text/html": [
       "<iframe id=\"igraph\" scrolling=\"no\" style=\"border:none;\" seamless=\"seamless\" src=\"https://plot.ly/~andrefarzat/1463.embed\" height=\"525px\" width=\"100%\"></iframe>"
      ],
      "text/plain": [
       "<plotly.tools.PlotlyDisplay object>"
      ]
     },
     "execution_count": 4,
     "metadata": {},
     "output_type": "execute_result"
    }
   ],
   "source": [
    "data = [go.Box(name=\"%dk\" % (i / 1000), x=budget.Nome, y=budget.Tempo_para_encontrar_melhor_solucao) for i, budget in budgets.items()]\n",
    "data.append(ONE_MINUTE_LINE)\n",
    "data.append(TWO_MINUTES_LINE)\n",
    "\n",
    "layout = go.Layout(title=\"Tempo até encontrar a melhor solução (em milissegundos)\",\n",
    "                xaxis=dict(title='Instâncias'),\n",
    "                yaxis=dict(title='Tempo até melhor solução'),\n",
    "                boxmode='group')\n",
    "fig = go.Figure(data=data, layout=layout)\n",
    "\n",
    "py.iplot(fig)"
   ]
  },
  {
   "cell_type": "code",
   "execution_count": 5,
   "metadata": {},
   "outputs": [
    {
     "data": {
      "text/html": [
       "<iframe id=\"igraph\" scrolling=\"no\" style=\"border:none;\" seamless=\"seamless\" src=\"https://plot.ly/~andrefarzat/1465.embed\" height=\"525px\" width=\"100%\"></iframe>"
      ],
      "text/plain": [
       "<plotly.tools.PlotlyDisplay object>"
      ]
     },
     "execution_count": 5,
     "metadata": {},
     "output_type": "execute_result"
    }
   ],
   "source": [
    "# Boxplot comparando 'melhor fitness'\n",
    "\n",
    "data = [go.Box(name=\"%dk\" % (i / 1000), x=budget.Nome, y=budget.Melhor_fitness) for i, budget in budgets.items()]\n",
    "data.extend([FITNESS_LINE, BARTOLI_LINE, NORVIG_LINE])\n",
    "\n",
    "\n",
    "layout = go.Layout(title=\"Melhor fitness\",\n",
    "                xaxis=dict(title='Instâncias'),\n",
    "                yaxis=dict(title='fitness'),\n",
    "                boxmode='group')\n",
    "fig = go.Figure(data=data, layout=layout)\n",
    "\n",
    "py.iplot(fig)"
   ]
  },
  {
   "cell_type": "code",
   "execution_count": 13,
   "metadata": {},
   "outputs": [
    {
     "name": "stdout",
     "output_type": "stream",
     "text": [
      "warmup;207;207;207;207.0;207;207;207;207.0;207;207;207;207.0;207;207;207;207.0\n",
      "ranges;202;202;202;202.0;202;202;202;202.0;202;202;202;202.0;202;202;202;202.0\n",
      "anchors;204;208;208;208.0;208;208;208;208.0;208;208;208;208.0;208;208;208;208.0\n",
      "backrefs;101;151;119;119.0;106;151;121;122.0;107;151;125;125.0;112;151;126;125.0\n",
      "abba;137;160;140;139.0;137;160;141;139.0;139;160;142;139.0;139;160;142;139.0\n",
      "aman-aplan;108;159;125;119.0;112;159;129;122.0;116;159;133;127.0;118;159;134;128.5\n",
      "prime;-4;24;12;11.0;-4;24;12;11.0;-4;24;12;11.0;-4;24;12;11.0\n",
      "four;135;188;145;144.0;135;188;146;144.5;135;188;146;145.0;136;188;148;147.0\n",
      "glob;244;329;290;288.5;262;329;296;296.0;262;329;299;298.0;262;329;300;298.0\n",
      "order;182;197;188;190.0;183;197;189;190.5;183;197;191;192.5;183;197;193;194.5\n",
      "triples;304;373;329;333.0;306;373;333;334.0;306;373;336;336.0;310;373;339;336.5\n",
      "balance;255;266;259;258.0;256;267;260;259.0;256;267;261;259.0;257;267;261;259.0\n",
      "long-count;-2;-2;-2;-2.0;-2;-2;-2;-2.0;-2;-2;-2;-2.0;-2;-2;-2;-2.0\n",
      "powers;7;15;15;15.0;7;15;15;15.0;7;15;15;15.0;7;15;15;15.0\n",
      "alphabetical;133;257;206;213.0;133;257;206;213.0;133;257;206;213.0;133;257;206;213.0\n",
      "['Depth', 'Matches_on_left', 'Matches_on_right', 'Maximo_fitness', 'Melhor_fitness', 'Melhor_solucao', 'Melhor_solucao_shrunk', 'Nome', 'Numero_de_comparacoes', 'Numero_total_de_comparacoes', 'T', 'Tempo_para_encontrar_melhor_solucao', 'Tempo_total', 'Timed_out', '_AXIS_ALIASES', '_AXIS_IALIASES', '_AXIS_LEN', '_AXIS_NAMES', '_AXIS_NUMBERS', '_AXIS_ORDERS', '_AXIS_REVERSED', '_AXIS_SLICEMAP', '__abs__', '__add__', '__and__', '__array__', '__array_wrap__', '__bool__', '__bytes__', '__class__', '__contains__', '__copy__', '__deepcopy__', '__delattr__', '__delitem__', '__dict__', '__dir__', '__div__', '__doc__', '__eq__', '__finalize__', '__floordiv__', '__format__', '__ge__', '__getattr__', '__getattribute__', '__getitem__', '__getstate__', '__gt__', '__hash__', '__iadd__', '__iand__', '__ifloordiv__', '__imod__', '__imul__', '__init__', '__init_subclass__', '__invert__', '__ior__', '__ipow__', '__isub__', '__iter__', '__itruediv__', '__ixor__', '__le__', '__len__', '__lt__', '__matmul__', '__mod__', '__module__', '__mul__', '__ne__', '__neg__', '__new__', '__nonzero__', '__or__', '__pos__', '__pow__', '__radd__', '__rand__', '__rdiv__', '__reduce__', '__reduce_ex__', '__repr__', '__rfloordiv__', '__rmatmul__', '__rmod__', '__rmul__', '__ror__', '__round__', '__rpow__', '__rsub__', '__rtruediv__', '__rxor__', '__setattr__', '__setitem__', '__setstate__', '__sizeof__', '__str__', '__sub__', '__subclasshook__', '__truediv__', '__unicode__', '__weakref__', '__xor__', '_accessors', '_add_numeric_operations', '_add_series_only_operations', '_add_series_or_dataframe_operations', '_agg_by_level', '_agg_doc', '_aggregate', '_aggregate_multiple_funcs', '_align_frame', '_align_series', '_box_col_values', '_box_item_values', '_builtin_table', '_check_inplace_setting', '_check_is_chained_assignment_possible', '_check_label_or_level_ambiguity', '_check_percentile', '_check_setitem_copy', '_clear_item_cache', '_clip_with_one_bound', '_clip_with_scalar', '_combine_const', '_combine_frame', '_combine_match_columns', '_combine_match_index', '_compare_frame', '_consolidate', '_consolidate_inplace', '_construct_axes_dict', '_construct_axes_dict_for_slice', '_construct_axes_dict_from', '_construct_axes_from_arguments', '_constructor', '_constructor_expanddim', '_constructor_sliced', '_convert', '_count_level', '_create_indexer', '_cython_table', '_deprecations', '_dir_additions', '_dir_deletions', '_drop_axis', '_drop_labels_or_levels', '_ensure_valid_index', '_expand_axes', '_find_valid_index', '_from_arrays', '_from_axes', '_get_agg_axis', '_get_axis', '_get_axis_name', '_get_axis_number', '_get_axis_resolvers', '_get_block_manager_axis', '_get_bool_data', '_get_cacher', '_get_index_resolvers', '_get_item_cache', '_get_label_or_level_values', '_get_numeric_data', '_get_value', '_get_values', '_getitem_array', '_getitem_column', '_getitem_frame', '_getitem_multilevel', '_getitem_slice', '_gotitem', '_iget_item_cache', '_indexed_same', '_info_axis', '_info_axis_name', '_info_axis_number', '_info_repr', '_init_dict', '_init_mgr', '_init_ndarray', '_internal_names', '_internal_names_set', '_is_builtin_func', '_is_cached', '_is_copy', '_is_cython_func', '_is_datelike_mixed_type', '_is_label_or_level_reference', '_is_label_reference', '_is_level_reference', '_is_mixed_type', '_is_numeric_mixed_type', '_is_view', '_ix', '_ixs', '_join_compat', '_maybe_cache_changed', '_maybe_update_cacher', '_metadata', '_needs_reindex_multi', '_obj_with_exclusions', '_protect_consolidate', '_reduce', '_reindex_axes', '_reindex_axis', '_reindex_columns', '_reindex_index', '_reindex_multi', '_reindex_with_indexers', '_repr_data_resource_', '_repr_fits_horizontal_', '_repr_fits_vertical_', '_repr_html_', '_repr_latex_', '_reset_cache', '_reset_cacher', '_sanitize_column', '_selected_obj', '_selection', '_selection_list', '_selection_name', '_series', '_set_as_cached', '_set_axis', '_set_axis_name', '_set_is_copy', '_set_item', '_set_value', '_setitem_array', '_setitem_frame', '_setitem_slice', '_setup_axes', '_shallow_copy', '_slice', '_stat_axis', '_stat_axis_name', '_stat_axis_number', '_take', '_to_dict_of_blocks', '_try_aggregate_string_function', '_typ', '_unpickle_frame_compat', '_unpickle_matrix_compat', '_update_inplace', '_validate_dtype', '_values', '_where', '_xs', 'abs', 'add', 'add_prefix', 'add_suffix', 'agg', 'aggregate', 'align', 'all', 'any', 'append', 'apply', 'applymap', 'as_matrix', 'asfreq', 'asof', 'assign', 'astype', 'at', 'at_time', 'axes', 'between_time', 'bfill', 'bool', 'boxplot', 'clip', 'clip_lower', 'clip_upper', 'columns', 'combine', 'combine_first', 'compound', 'copy', 'corr', 'corrwith', 'count', 'cov', 'cummax', 'cummin', 'cumprod', 'cumsum', 'describe', 'diff', 'div', 'divide', 'dot', 'drop', 'drop_duplicates', 'dropna', 'dtypes', 'duplicated', 'empty', 'eq', 'equals', 'eval', 'ewm', 'expanding', 'ffill', 'fillna', 'filter', 'first', 'first_valid_index', 'floordiv', 'from_dict', 'from_records', 'ftypes', 'ge', 'get', 'get_dtype_counts', 'get_ftype_counts', 'get_values', 'groupby', 'gt', 'head', 'hist', 'i', 'iat', 'idxmax', 'idxmin', 'iloc', 'index', 'infer_objects', 'info', 'insert', 'interpolate', 'isin', 'isna', 'isnull', 'items', 'iteritems', 'iterrows', 'itertuples', 'ix', 'join', 'keys', 'kurt', 'kurtosis', 'last', 'last_valid_index', 'le', 'loc', 'lookup', 'lt', 'mad', 'mask', 'max', 'mean', 'median', 'melt', 'memory_usage', 'merge', 'min', 'mod', 'mode', 'mul', 'multiply', 'ndim', 'ne', 'nlargest', 'notna', 'notnull', 'nsmallest', 'nunique', 'pct_change', 'pipe', 'pivot', 'pivot_table', 'plot', 'pop', 'pow', 'prod', 'product', 'quantile', 'query', 'radd', 'rank', 'rdiv', 'reindex', 'reindex_axis', 'reindex_like', 'rename', 'rename_axis', 'reorder_levels', 'replace', 'resample', 'reset_index', 'rfloordiv', 'rmod', 'rmul', 'rolling', 'round', 'rpow', 'rsub', 'rtruediv', 'sample', 'seed', 'select', 'select_dtypes', 'sem', 'set_axis', 'set_index', 'shape', 'shift', 'size', 'skew', 'slice_shift', 'sort_index', 'sort_values', 'squeeze', 'stack', 'std', 'style', 'sub', 'subtract', 'sum', 'swapaxes', 'swaplevel', 'tail', 'take', 'to_clipboard', 'to_csv', 'to_dense', 'to_dict', 'to_excel', 'to_feather', 'to_gbq', 'to_hdf', 'to_html', 'to_json', 'to_latex', 'to_msgpack', 'to_panel', 'to_parquet', 'to_period', 'to_pickle', 'to_records', 'to_sparse', 'to_sql', 'to_stata', 'to_string', 'to_timestamp', 'to_xarray', 'transform', 'transpose', 'truediv', 'truncate', 'tshift', 'tz_convert', 'tz_localize', 'unstack', 'update', 'values', 'var', 'where', 'xs']\n"
     ]
    }
   ],
   "source": [
    "from scipy import stats\n",
    "\n",
    "data = [list(b.Melhor_fitness) for i, b in budgets.items()]\n",
    "\n",
    "# result = stats.kruskal(*data)\n",
    "# result\n",
    "\n",
    "def printar_pontuacao():\n",
    "    names = budgets[300000].Nome.unique()\n",
    "\n",
    "    for name in names:\n",
    "        txt = [name]\n",
    "        for i, b in budgets.items():\n",
    "            d = b[b.Nome == name]\n",
    "            txt.append(d.Melhor_fitness.min())\n",
    "            txt.append(d.Melhor_fitness.max())\n",
    "            txt.append(\"%d\" % round(d.Melhor_fitness.mean()))\n",
    "#             txt.append(d.Melhor_fitness.median())\n",
    "        txt = map(str, txt)\n",
    "        print(\";\".join(txt))\n",
    "\n",
    "printar_pontuacao()\n",
    "\n"
   ]
  },
  {
   "cell_type": "code",
   "execution_count": null,
   "metadata": {},
   "outputs": [],
   "source": []
  }
 ],
 "metadata": {
  "kernelspec": {
   "display_name": "Python 3",
   "language": "python",
   "name": "python3"
  },
  "language_info": {
   "codemirror_mode": {
    "name": "ipython",
    "version": 3
   },
   "file_extension": ".py",
   "mimetype": "text/x-python",
   "name": "python",
   "nbconvert_exporter": "python",
   "pygments_lexer": "ipython3",
   "version": "3.7.0"
  }
 },
 "nbformat": 4,
 "nbformat_minor": 2
}
