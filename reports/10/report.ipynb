{
 "cells": [
  {
   "cell_type": "code",
   "execution_count": 1,
   "metadata": {},
   "outputs": [],
   "source": [
    "import plotly\n",
    "import pandas\n",
    "import numpy\n",
    "import scipy\n",
    "import plotly.plotly as py\n",
    "import plotly.graph_objs as go"
   ]
  },
  {
   "cell_type": "code",
   "execution_count": 2,
   "metadata": {},
   "outputs": [],
   "source": [
    "# Fitness máximo possível para cada instância do problema\n",
    "MAX_FITNESS = {\n",
    "    \"warmup\": 21,\n",
    "    \"anchors\": 21,\n",
    "    \"ranges\": 21,\n",
    "    \"backrefs\": 21,\n",
    "    \"abba\": 22,\n",
    "    \"aman-aplan\": 19,\n",
    "    \"prime\": 20,\n",
    "    \"four\": 21,\n",
    "    \"order\": 21,\n",
    "    \"triples\": 21,\n",
    "    \"glob\": 21,\n",
    "    \"balance\": 32,\n",
    "    \"powers\": 11,\n",
    "    \"long-count\": 1,\n",
    "    \"alphabetical\": 17,\n",
    "}\n",
    "\n",
    "# Fitness que o Bartoli conseguiu segundo expressão regular gerada\n",
    "BARTOLI_FITNESS = {\n",
    "    \"warmup\": 21,\n",
    "    \"anchors\": 21,\n",
    "    \"ranges\": 21,\n",
    "    \"backrefs\": 18,\n",
    "    \"abba\": 20,\n",
    "    \"aman-aplan\": 16,\n",
    "    \"prime\": 13,\n",
    "    \"four\": 21,\n",
    "    \"order\": 21,\n",
    "    \"triples\": 15,\n",
    "    \"glob\": 19,\n",
    "    \"balance\": 29,\n",
    "    \"powers\": 7,\n",
    "    \"long-count\": 1,\n",
    "    \"alphabetical\": 12,\n",
    "}\n",
    "\n",
    "NORVIG_FITNESS = {\n",
    "    \"warmup\": 21,\n",
    "    \"anchors\": 21,\n",
    "    \"ranges\": 21,\n",
    "    \"backrefs\": 21,\n",
    "    \"abba\": 21,\n",
    "    \"aman-aplan\": 19,\n",
    "    \"prime\": 19,\n",
    "    \"four\": 21,\n",
    "    \"order\": 21,\n",
    "    \"triples\": 21,\n",
    "    \"glob\": 0,\n",
    "    \"balance\": 31,\n",
    "    \"powers\": 11,\n",
    "    \"long-count\": 1,\n",
    "    \"alphabetical\": 17,\n",
    "}\n",
    "\n",
    "FITNESS_LINE = go.Scatter(\n",
    "    name=\"Pontuação Máxima\",\n",
    "    x=list(MAX_FITNESS.keys()),\n",
    "    y=list(MAX_FITNESS.values()),\n",
    "    mode='lines',\n",
    ")\n",
    "\n",
    "BARTOLI_LINE = go.Scatter(\n",
    "    name=\"Algoritmo Genético\",\n",
    "    x=list(BARTOLI_FITNESS.keys()),\n",
    "    y=list(BARTOLI_FITNESS.values()),\n",
    "    mode='markers',\n",
    "    type='scatter',\n",
    ")\n",
    "\n",
    "NORVIG_LINE = go.Scatter(\n",
    "    name=\"Algoritmo Exato\",\n",
    "    x=list(NORVIG_FITNESS.keys()),\n",
    "    y=list(NORVIG_FITNESS.values()),\n",
    "    mode='markers',\n",
    "    type='scatter',\n",
    ")"
   ]
  },
  {
   "cell_type": "code",
   "execution_count": 3,
   "metadata": {},
   "outputs": [],
   "source": [
    "# Importando os dados\n",
    "ILS_S_08 = pandas.read_csv(\"../08/ILS_Shrink.csv\").sort_values(by=[\"Nome\"])\n",
    "ILS_S_09 = pandas.read_csv(\"../09/ILS_Shrink.csv\").sort_values(by=[\"Nome\"])\n",
    "ILS_S = pandas.read_csv(\"./ILS_Shrink.csv\").sort_values(by=['Nome'])\n",
    "\n",
    "C_RRLS = pandas.read_csv(\"./Constructed_RRLS.csv\").sort_values(by=['Nome'])\n",
    "\n"
   ]
  },
  {
   "cell_type": "code",
   "execution_count": 4,
   "metadata": {},
   "outputs": [
    {
     "data": {
      "text/html": [
       "<iframe id=\"igraph\" scrolling=\"no\" style=\"border:none;\" seamless=\"seamless\" src=\"https://plot.ly/~andrefarzat/661.embed\" height=\"525px\" width=\"100%\"></iframe>"
      ],
      "text/plain": [
       "<plotly.tools.PlotlyDisplay object>"
      ]
     },
     "execution_count": 4,
     "metadata": {},
     "output_type": "execute_result"
    }
   ],
   "source": [
    "# Boxplot comparando 'melhor fitness'\n",
    "data = [\n",
    "    FITNESS_LINE,\n",
    "    BARTOLI_LINE,\n",
    "    NORVIG_LINE,\n",
    "    go.Box(name=\"Busca Local\", x=ILS_S.Nome, y=ILS_S.Melhor_fitness),\n",
    "]\n",
    "\n",
    "layout = go.Layout(title=\"Melhor fitness\",\n",
    "                xaxis=dict(title='Instâncias'),\n",
    "                yaxis=dict(title='fitness'),\n",
    "                boxmode='group')\n",
    "fig = go.Figure(data=data, layout=layout)\n",
    "\n",
    "py.iplot(fig)\n"
   ]
  },
  {
   "cell_type": "code",
   "execution_count": 5,
   "metadata": {},
   "outputs": [
    {
     "data": {
      "text/html": [
       "<iframe id=\"igraph\" scrolling=\"no\" style=\"border:none;\" seamless=\"seamless\" src=\"https://plot.ly/~andrefarzat/663.embed\" height=\"525px\" width=\"100%\"></iframe>"
      ],
      "text/plain": [
       "<plotly.tools.PlotlyDisplay object>"
      ]
     },
     "execution_count": 5,
     "metadata": {},
     "output_type": "execute_result"
    }
   ],
   "source": [
    "# Boxplot comparando 'melhor fitness' entre os ILS_S\n",
    "data = [\n",
    "    FITNESS_LINE,\n",
    "    # BARTOLI_LINE,\n",
    "    # NORVIG_LINE,\n",
    "    go.Box(name=\"ILS_S 08\", x=ILS_S_08.Nome, y=ILS_S_08.Melhor_fitness),\n",
    "    go.Box(name=\"ILS_S 09\", x=ILS_S_09.Nome, y=ILS_S_09.Melhor_fitness),\n",
    "    go.Box(name=\"ILS_S 10\", x=ILS_S.Nome, y=ILS_S.Melhor_fitness),\n",
    "    go.Box(name=\"C_RRLS\", x=C_RRLS.Nome, y=C_RRLS.Melhor_fitness),\n",
    "]\n",
    "\n",
    "layout = go.Layout(title=\"Melhor fitness entre os ILS_S e C_RRLS atual\",\n",
    "                xaxis=dict(title='Instâncias'),\n",
    "                yaxis=dict(title='fitness'),\n",
    "                boxmode='group')\n",
    "fig = go.Figure(data=data, layout=layout)\n",
    "\n",
    "py.iplot(fig)\n"
   ]
  },
  {
   "cell_type": "code",
   "execution_count": 6,
   "metadata": {},
   "outputs": [
    {
     "data": {
      "text/html": [
       "<iframe id=\"igraph\" scrolling=\"no\" style=\"border:none;\" seamless=\"seamless\" src=\"https://plot.ly/~andrefarzat/665.embed\" height=\"525px\" width=\"100%\"></iframe>"
      ],
      "text/plain": [
       "<plotly.tools.PlotlyDisplay object>"
      ]
     },
     "execution_count": 6,
     "metadata": {},
     "output_type": "execute_result"
    }
   ],
   "source": [
    "# Boxplot comparando 'Tempo total de execução' entre os ILS_S\n",
    "data = [\n",
    "    go.Box(name=\"ILS_S 08\", x=ILS_S_08.Nome, y=ILS_S_08.Tempo_total),\n",
    "    go.Box(name=\"ILS_S 09\", x=ILS_S_09.Nome, y=ILS_S_09.Tempo_total),\n",
    "    go.Box(name=\"ILS_S 10\", x=ILS_S.Nome, y=ILS_S.Tempo_total),\n",
    "    go.Box(name=\"C_RRLS\", x=C_RRLS.Nome, y=C_RRLS.Tempo_total),\n",
    "]\n",
    "\n",
    "layout = go.Layout(title=\"Tempo total de execução em ms\",\n",
    "                xaxis=dict(title='Instâncias'),\n",
    "                yaxis=dict(title='fitness'),\n",
    "                boxmode='group')\n",
    "fig = go.Figure(data=data, layout=layout)\n",
    "\n",
    "py.iplot(fig)"
   ]
  },
  {
   "cell_type": "code",
   "execution_count": 7,
   "metadata": {},
   "outputs": [
    {
     "data": {
      "text/html": [
       "<iframe id=\"igraph\" scrolling=\"no\" style=\"border:none;\" seamless=\"seamless\" src=\"https://plot.ly/~andrefarzat/667.embed\" height=\"525px\" width=\"100%\"></iframe>"
      ],
      "text/plain": [
       "<plotly.tools.PlotlyDisplay object>"
      ]
     },
     "execution_count": 7,
     "metadata": {},
     "output_type": "execute_result"
    }
   ],
   "source": [
    "# Médias de número de comparações para encontrar melhor fitness\n",
    "\n",
    "\n",
    "MAX_LINE = go.Scatter(name=\"Máximo\", x=ILS_S.Nome.unique(), y=[600000 for i in range(15)], mode='lines', marker=go.Marker(color='rgb(255, 77, 77)'))\n",
    "\n",
    "\n",
    "data = [\n",
    "    go.Box(name=\"ILS_S 08\", x=ILS_S_08.Nome, y=ILS_S_08.Numero_de_comparacoes),\n",
    "    go.Box(name=\"ILS_S 09\", x=ILS_S_09.Nome, y=ILS_S_09.Numero_de_comparacoes),\n",
    "    go.Box(name=\"ILS_S 10\", x=ILS_S.Nome, y=ILS_S.Numero_de_comparacoes),\n",
    "    go.Box(name=\"C_RRLS\", x=C_RRLS.Nome, y=C_RRLS.Numero_de_comparacoes),\n",
    "    \n",
    "    MAX_LINE,\n",
    "]\n",
    "\n",
    "layout = go.Layout(title=\"Número de comparações até encontrar Melhor Fitness\",\n",
    "                xaxis=dict(title='Instâncias'),\n",
    "                yaxis=dict(title='Quantidade de comprações'),\n",
    "                boxmode='group')\n",
    "fig = go.Figure(data=data, layout=layout)\n",
    "\n",
    "py.iplot(fig)"
   ]
  },
  {
   "cell_type": "markdown",
   "metadata": {},
   "source": [
    "### Essas são avaliações apenas das soluções melhores e melhores locais\n",
    "Por favor observe que todas levam menos de 1ms, porém tem **uma** que levou 9ms."
   ]
  },
  {
   "cell_type": "code",
   "execution_count": 8,
   "metadata": {},
   "outputs": [
    {
     "data": {
      "text/html": [
       "<iframe id=\"igraph\" scrolling=\"no\" style=\"border:none;\" seamless=\"seamless\" src=\"https://plot.ly/~andrefarzat/669.embed\" height=\"525px\" width=\"100%\"></iframe>"
      ],
      "text/plain": [
       "<plotly.tools.PlotlyDisplay object>"
      ]
     },
     "execution_count": 8,
     "metadata": {},
     "output_type": "execute_result"
    }
   ],
   "source": [
    "# Tempo de avaliação das expressões regulares\n",
    "\n",
    "\n",
    "data = [\n",
    "    go.Box(name=\"ILS_S\", x=ILS_S.Nome, y=ILS_S.Tempo_avaliacao),\n",
    "    go.Box(name=\"C_RRLS\", x=C_RRLS.Nome, y=C_RRLS.Tempo_avaliacao),\n",
    "]\n",
    "\n",
    "layout = go.Layout(title=\"Tempo de avaliação das expressões regulares (em ms)\",\n",
    "                xaxis=dict(title='Instâncias'),\n",
    "                yaxis=dict(title='tempo em ms'),\n",
    "                boxmode='group')\n",
    "fig = go.Figure(data=data, layout=layout)\n",
    "\n",
    "py.iplot(fig)"
   ]
  },
  {
   "cell_type": "code",
   "execution_count": null,
   "metadata": {},
   "outputs": [],
   "source": []
  }
 ],
 "metadata": {
  "kernelspec": {
   "display_name": "Python 3",
   "language": "python",
   "name": "python3"
  },
  "language_info": {
   "codemirror_mode": {
    "name": "ipython",
    "version": 3
   },
   "file_extension": ".py",
   "mimetype": "text/x-python",
   "name": "python",
   "nbconvert_exporter": "python",
   "pygments_lexer": "ipython3",
   "version": "3.6.0"
  }
 },
 "nbformat": 4,
 "nbformat_minor": 2
}
