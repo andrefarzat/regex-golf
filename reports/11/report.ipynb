{
 "cells": [
  {
   "cell_type": "code",
   "execution_count": 1,
   "metadata": {},
   "outputs": [],
   "source": [
    "import plotly\n",
    "import pandas\n",
    "import numpy\n",
    "import scipy\n",
    "import plotly.plotly as py\n",
    "import plotly.graph_objs as go"
   ]
  },
  {
   "cell_type": "code",
   "execution_count": 2,
   "metadata": {},
   "outputs": [],
   "source": [
    "# Fitness máximo possível para cada instância do problema\n",
    "MAX_FITNESS = {\n",
    "    \"warmup\": 21,\n",
    "    \"anchors\": 21,\n",
    "    \"ranges\": 21,\n",
    "    \"backrefs\": 21,\n",
    "    \"abba\": 22,\n",
    "    \"aman-aplan\": 19,\n",
    "    \"prime\": 20,\n",
    "    \"four\": 21,\n",
    "    \"order\": 21,\n",
    "    \"triples\": 21,\n",
    "    \"glob\": 21,\n",
    "    \"balance\": 32,\n",
    "    \"powers\": 11,\n",
    "    \"long-count\": 1,\n",
    "    \"alphabetical\": 17,\n",
    "}\n",
    "\n",
    "# Fitness que o Bartoli conseguiu segundo expressão regular gerada\n",
    "BARTOLI_FITNESS = {\n",
    "    \"warmup\": 21,\n",
    "    \"anchors\": 21,\n",
    "    \"ranges\": 21,\n",
    "    \"backrefs\": 18,\n",
    "    \"abba\": 20,\n",
    "    \"aman-aplan\": 16,\n",
    "    \"prime\": 13,\n",
    "    \"four\": 21,\n",
    "    \"order\": 21,\n",
    "    \"triples\": 15,\n",
    "    \"glob\": 19,\n",
    "    \"balance\": 29,\n",
    "    \"powers\": 7,\n",
    "    \"long-count\": 1,\n",
    "    \"alphabetical\": 12,\n",
    "}\n",
    "\n",
    "NORVIG_FITNESS = {\n",
    "    \"warmup\": 21,\n",
    "    \"anchors\": 21,\n",
    "    \"ranges\": 21,\n",
    "    \"backrefs\": 21,\n",
    "    \"abba\": 21,\n",
    "    \"aman-aplan\": 19,\n",
    "    \"prime\": 19,\n",
    "    \"four\": 21,\n",
    "    \"order\": 21,\n",
    "    \"triples\": 21,\n",
    "    \"glob\": 0,\n",
    "    \"balance\": 31,\n",
    "    \"powers\": 11,\n",
    "    \"long-count\": 1,\n",
    "    \"alphabetical\": 17,\n",
    "}\n",
    "\n",
    "FITNESS_LINE = go.Scatter(\n",
    "    name=\"Pontuação Máxima\",\n",
    "    x=list(MAX_FITNESS.keys()),\n",
    "    y=list(MAX_FITNESS.values()),\n",
    "    mode='lines',\n",
    ")\n",
    "\n",
    "BARTOLI_LINE = go.Scatter(\n",
    "    name=\"Algoritmo Genético\",\n",
    "    x=list(BARTOLI_FITNESS.keys()),\n",
    "    y=list(BARTOLI_FITNESS.values()),\n",
    "    mode='markers',\n",
    ")\n",
    "\n",
    "NORVIG_LINE = go.Scatter(\n",
    "    name=\"Algoritmo Exato (Norvig)\",\n",
    "    x=list(NORVIG_FITNESS.keys()),\n",
    "    y=list(NORVIG_FITNESS.values()),\n",
    "    mode='markers',\n",
    ")"
   ]
  },
  {
   "cell_type": "code",
   "execution_count": 3,
   "metadata": {},
   "outputs": [],
   "source": [
    "# Importando os dados\n",
    "ILS_S_09 = pandas.read_csv(\"../09/ILS_Shrink.csv\") #.sort_values(by=[\"Nome\"])\n",
    "ILS_S_10 = pandas.read_csv(\"../10/ILS_Shrink.csv\") #.sort_values(by=[\"Nome\"])\n",
    "\n",
    "ILS_S_300k = pandas.read_csv(\"./ILS_Shrink_300k.csv\") #.sort_values(by=['Nome'])\n",
    "ILS_S_600k = pandas.read_csv(\"./ILS_Shrink_600k.csv\") #.sort_values(by=['Nome'])\n",
    "\n"
   ]
  },
  {
   "cell_type": "code",
   "execution_count": 4,
   "metadata": {},
   "outputs": [
    {
     "data": {
      "text/html": [
       "<iframe id=\"igraph\" scrolling=\"no\" style=\"border:none;\" seamless=\"seamless\" src=\"https://plot.ly/~andrefarzat/673.embed\" height=\"525px\" width=\"100%\"></iframe>"
      ],
      "text/plain": [
       "<plotly.tools.PlotlyDisplay object>"
      ]
     },
     "execution_count": 4,
     "metadata": {},
     "output_type": "execute_result"
    }
   ],
   "source": [
    "# Boxplot comparando 'melhor fitness'\n",
    "data = [\n",
    "    FITNESS_LINE,\n",
    "    go.Box(name=\"300k\", x=ILS_S_300k.Nome, y=ILS_S_300k.Melhor_fitness),\n",
    "    go.Box(name=\"600k\", x=ILS_S_600k.Nome, y=ILS_S_300k.Melhor_fitness),\n",
    "]\n",
    "\n",
    "layout = go.Layout(title=\"Melhor fitness\",\n",
    "                xaxis=dict(title='Instâncias'),\n",
    "                yaxis=dict(title='fitness'),\n",
    "                boxmode='group')\n",
    "fig = go.Figure(data=data, layout=layout)\n",
    "\n",
    "py.iplot(fig)\n"
   ]
  },
  {
   "cell_type": "code",
   "execution_count": 5,
   "metadata": {},
   "outputs": [
    {
     "data": {
      "text/html": [
       "<iframe id=\"igraph\" scrolling=\"no\" style=\"border:none;\" seamless=\"seamless\" src=\"https://plot.ly/~andrefarzat/675.embed\" height=\"525px\" width=\"100%\"></iframe>"
      ],
      "text/plain": [
       "<plotly.tools.PlotlyDisplay object>"
      ]
     },
     "execution_count": 5,
     "metadata": {},
     "output_type": "execute_result"
    }
   ],
   "source": [
    "# Boxplot comparando 'Tempo total de execução' entre os ILS_S\n",
    "data = [\n",
    "    go.Box(name=\"ILS_S anterior\", x=ILS_S_10.Nome, y=ILS_S_10.Tempo_total),\n",
    "    go.Box(name=\"ILS_S 300k\", x=ILS_S_300k.Nome, y=ILS_S_300k.Tempo_total),\n",
    "    go.Box(name=\"ILS_S 600k\", x=ILS_S_600k.Nome, y=ILS_S_600k.Tempo_total),\n",
    "]\n",
    "\n",
    "layout = go.Layout(title=\"Tempo total de execução em ms\",\n",
    "                xaxis=dict(title='Instâncias'),\n",
    "                yaxis=dict(title='fitness'),\n",
    "                boxmode='group')\n",
    "fig = go.Figure(data=data, layout=layout)\n",
    "\n",
    "py.iplot(fig)"
   ]
  },
  {
   "cell_type": "code",
   "execution_count": 8,
   "metadata": {},
   "outputs": [
    {
     "name": "stderr",
     "output_type": "stream",
     "text": [
      "/usr/local/lib/python3.7/site-packages/plotly/graph_objs/_deprecations.py:426: DeprecationWarning:\n",
      "\n",
      "plotly.graph_objs.Marker is deprecated.\n",
      "Please replace it with one of the following more specific types\n",
      "  - plotly.graph_objs.scatter.Marker\n",
      "  - plotly.graph_objs.histogram.selected.Marker\n",
      "  - etc.\n",
      "\n",
      "\n"
     ]
    },
    {
     "data": {
      "text/html": [
       "<iframe id=\"igraph\" scrolling=\"no\" style=\"border:none;\" seamless=\"seamless\" src=\"https://plot.ly/~andrefarzat/679.embed\" height=\"525px\" width=\"100%\"></iframe>"
      ],
      "text/plain": [
       "<plotly.tools.PlotlyDisplay object>"
      ]
     },
     "execution_count": 8,
     "metadata": {},
     "output_type": "execute_result"
    }
   ],
   "source": [
    "# Médias de número de comparações para encontrar melhor fitness\n",
    "\n",
    "\n",
    "MAX_LINE_1 = go.Scatter(name=\"300k\", x=ILS_S_10.Nome.unique(), y=[300000 for i in range(15)], mode='lines', marker=Marker(color='rgb(77, 255, 77)'))\n",
    "MAX_LINE_2 = go.Scatter(name=\"600k\", x=ILS_S_10.Nome.unique(), y=[600000 for i in range(15)], mode='lines', marker=Marker(color='rgb(255, 77, 77)'))\n",
    "\n",
    "\n",
    "data = [\n",
    "    go.Box(name=\"ILS_S anterior\", x=ILS_S_10.Nome, y=ILS_S_10.Numero_de_comparacoes),\n",
    "    go.Box(name=\"ILS_S 300k\", x=ILS_S_300k.Nome, y=ILS_S_300k.Numero_de_comparacoes),\n",
    "    go.Box(name=\"ILS_S 600k\", x=ILS_S_600k.Nome, y=ILS_S_600k.Numero_de_comparacoes),\n",
    "    \n",
    "    MAX_LINE_1,\n",
    "    MAX_LINE_2,\n",
    "]\n",
    "\n",
    "layout = go.Layout(title=\"Número de comparações até encontrar Melhor Fitness\",\n",
    "                xaxis=dict(title='Instâncias'),\n",
    "                yaxis=dict(title='Quantidade de comprações'),\n",
    "                boxmode='group')\n",
    "fig = go.Figure(data=data, layout=layout)\n",
    "\n",
    "py.iplot(fig)"
   ]
  },
  {
   "cell_type": "code",
   "execution_count": null,
   "metadata": {},
   "outputs": [],
   "source": []
  }
 ],
 "metadata": {
  "kernelspec": {
   "display_name": "Python 3",
   "language": "python",
   "name": "python3"
  },
  "language_info": {
   "codemirror_mode": {
    "name": "ipython",
    "version": 3
   },
   "file_extension": ".py",
   "mimetype": "text/x-python",
   "name": "python",
   "nbconvert_exporter": "python",
   "pygments_lexer": "ipython3",
   "version": "3.7.0"
  }
 },
 "nbformat": 4,
 "nbformat_minor": 2
}
