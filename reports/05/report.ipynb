{
 "cells": [
  {
   "cell_type": "code",
   "execution_count": 1,
   "metadata": {},
   "outputs": [],
   "source": [
    "import plotly\n",
    "import pandas\n",
    "import numpy\n",
    "import scipy\n",
    "import plotly.plotly as py\n",
    "import plotly.graph_objs as go"
   ]
  },
  {
   "cell_type": "code",
   "execution_count": null,
   "metadata": {},
   "outputs": [],
   "source": [
    "# Importando os dados\n",
    "OLD_ILS_S = pandas.read_csv(\"../03/ILS_Shrink.csv\").sort_values(by=['Nome'])\n",
    "ILS_S = pandas.read_csv(\"ILS_Shrink.csv\").sort_values(by=['Nome'])\n",
    "\n",
    "MAX_FITNESS =     {\"abba\": 43, \"aman-aplan\": 40, \"anchors\": 42, \"four\": 42, \"order\": 42, \"ranges\": 42, \"triples\": 42, \"words\": 40}\n",
    "BARTOLI_FITNESS = {\"abba\": 42, \"aman-aplan\": 37, \"anchors\": 42, \"four\": 42, \"order\": 42, \"ranges\": 42, \"triples\": 36, \"words\": 40}\n",
    "FITNESS_LINE = go.Scatter(name=\"Max Fitness\", x=list(MAX_FITNESS.keys()), y=list(MAX_FITNESS.values()), mode='lines', marker=go.Marker(color='rgb(140, 140, 140)'))\n",
    "BARTOLI_LINE = go.Scatter(name=\"Bartoli Fitness\", x=list(BARTOLI_FITNESS.keys()), y=list(BARTOLI_FITNESS.values()), mode='markers', type='scatter', marker=go.Marker(color='transparent', line={'width': 2, 'color': 'rgb(140, 140, 140)'}))\n"
   ]
  }
 ],
 "metadata": {
  "kernelspec": {
   "display_name": "Python 3",
   "language": "python",
   "name": "python3"
  },
  "language_info": {
   "codemirror_mode": {
    "name": "ipython",
    "version": 3
   },
   "file_extension": ".py",
   "mimetype": "text/x-python",
   "name": "python",
   "nbconvert_exporter": "python",
   "pygments_lexer": "ipython3",
   "version": "3.6.0"
  }
 },
 "nbformat": 4,
 "nbformat_minor": 2
}
