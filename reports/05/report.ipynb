{
 "cells": [
  {
   "cell_type": "code",
   "execution_count": 1,
   "metadata": {},
   "outputs": [],
   "source": [
    "import plotly\n",
    "import pandas\n",
    "import numpy\n",
    "import scipy\n",
    "import plotly.plotly as py\n",
    "import plotly.graph_objs as go"
   ]
  },
  {
   "cell_type": "code",
   "execution_count": 5,
   "metadata": {},
   "outputs": [],
   "source": [
    "# Importando os dados\n",
    "OLD_ILS_S = pandas.read_csv(\"../03/ILS_Shrink.csv\").sort_values(by=['Nome'])\n",
    "ILS_S = pandas.read_csv(\"ILS_Shrink.csv\").sort_values(by=['Nome'])\n",
    "\n",
    "# Fitness máximo possível para cada instância do problema\n",
    "MAX_FITNESS = {\n",
    "    \"abba\": 22,\n",
    "    \"alphabetical\": 17,\n",
    "    \"aman-aplan\": 19,\n",
    "    \"anchors\": 21,\n",
    "    \"backrefs\": 21,\n",
    "    \"balance\": 32,\n",
    "    \"books\": 7,\n",
    "    \"family\": 2,\n",
    "    \"foo\": 21,\n",
    "    \"four\": 21,\n",
    "    \"glob\": 21,\n",
    "    \"hard\": 4,\n",
    "    \"it-never-ends\": 3,\n",
    "    \"long-count\": 1,\n",
    "    \"movies\": 8,\n",
    "    \"names\": 10,\n",
    "    \"order\": 21,\n",
    "    \"powers\": 11,\n",
    "    \"powers-2\": 10,\n",
    "    \"prime\": 0,\n",
    "    \"ranges\": 21,\n",
    "    \"regex-of-regex\": 15,\n",
    "    \"substraction\": 20,\n",
    "    \"triples\": 21,\n",
    "    \"warmup\": 21,\n",
    "    \"words\": 19,\n",
    "}\n",
    "\n",
    "# Fitness que o Bartoli conseguiu segundo expressão regular gerada\n",
    "BARTOLI_FITNESS = {\"abba\": 42, \"aman-aplan\": 37, \"anchors\": 42, \"four\": 42, \"order\": 42, \"ranges\": 42, \"triples\": 36, \"words\": 40}\n",
    "\n",
    "FITNESS_LINE = go.Scatter(\n",
    "    name=\"Max Fitness\",\n",
    "    x=list(MAX_FITNESS.keys()),\n",
    "    y=list(MAX_FITNESS.values()),\n",
    "    mode='lines',\n",
    "    marker=go.Marker(color='rgb(140, 140, 140)')\n",
    ")\n",
    "\n",
    "BARTOLI_LINE = go.Scatter(\n",
    "    name=\"Bartoli Fitness\",\n",
    "    x=list(BARTOLI_FITNESS.keys()),\n",
    "    y=list(BARTOLI_FITNESS.values()),\n",
    "    mode='markers',\n",
    "    type='scatter',\n",
    "    marker=go.Marker(color='transparent', line={'width': 2, 'color': 'rgb(140, 140, 140)'})\n",
    ")\n"
   ]
  },
  {
   "cell_type": "code",
   "execution_count": null,
   "metadata": {},
   "outputs": [],
   "source": [
    "# Boxplot comparando 'melhor fitness'\n",
    "data = [\n",
    "#     go.Box(name=\"OLD_ILS_S\", x=OLD_ILS_S.Nome, y=OLD_ILS_S.Melhor_fitness),\n",
    "    go.Box(name=\"ILS_S\", x=ILS_S.Nome, y=ILS_S.Melhor_fitness, fillcolor=\"transparent\", line={'color': 'rgb(67, 67, 67)', 'width': 2}),\n",
    "    FITNESS_LINE,\n",
    "    BARTOLI_LINE,\n",
    "]\n",
    "\n",
    "layout = go.Layout(title=\"Melhor fitness\",\n",
    "                xaxis=dict(title='Instâncias'),\n",
    "                yaxis=dict(title='fitness'),\n",
    "                boxmode='group')\n",
    "fig = go.Figure(data=data, layout=layout)\n",
    "\n",
    "py.iplot(fig)\n"
   ]
  }
 ],
 "metadata": {
  "kernelspec": {
   "display_name": "Python 3",
   "language": "python",
   "name": "python3"
  },
  "language_info": {
   "codemirror_mode": {
    "name": "ipython",
    "version": 3
   },
   "file_extension": ".py",
   "mimetype": "text/x-python",
   "name": "python",
   "nbconvert_exporter": "python",
   "pygments_lexer": "ipython3",
   "version": "3.6.0"
  }
 },
 "nbformat": 4,
 "nbformat_minor": 2
}
