{
 "cells": [
  {
   "cell_type": "code",
   "execution_count": 1,
   "metadata": {},
   "outputs": [],
   "source": [
    "import plotly\n",
    "import pandas\n",
    "import numpy\n",
    "import scipy\n",
    "import plotly.plotly as py\n",
    "import plotly.graph_objs as go"
   ]
  },
  {
   "cell_type": "code",
   "execution_count": 2,
   "metadata": {},
   "outputs": [],
   "source": [
    "# Fitness máximo possível para cada instância do problema\n",
    "MAX_FITNESS = {\n",
    "    \"warmup\": 21,\n",
    "    \"anchors\": 21,\n",
    "    \"ranges\": 21,\n",
    "    \"backrefs\": 21,\n",
    "    \"abba\": 22,\n",
    "    \"aman-aplan\": 19,\n",
    "    \"prime\": 20,\n",
    "    \"four\": 21,\n",
    "    \"order\": 21,\n",
    "    \"triples\": 21,\n",
    "    \"glob\": 21,\n",
    "    \"balance\": 32,\n",
    "    \"powers\": 11,\n",
    "    \"long-count\": 1,\n",
    "    \"alphabetical\": 17,\n",
    "}\n",
    "\n",
    "# Fitness que o Bartoli conseguiu segundo expressão regular gerada\n",
    "BARTOLI_FITNESS = {\n",
    "    \"warmup\": 21,\n",
    "    \"anchors\": 21,\n",
    "    \"ranges\": 21,\n",
    "    \"backrefs\": 18,\n",
    "    \"abba\": 20,\n",
    "    \"aman-aplan\": 16,\n",
    "    \"prime\": 13,\n",
    "    \"four\": 21,\n",
    "    \"order\": 21,\n",
    "    \"triples\": 15,\n",
    "    \"glob\": 19,\n",
    "    \"balance\": 29,\n",
    "    \"powers\": 7,\n",
    "    \"long-count\": 1,\n",
    "    \"alphabetical\": 12,\n",
    "}\n",
    "\n",
    "NORVIG_FITNESS = {\n",
    "    \"warmup\": 21,\n",
    "    \"anchors\": 21,\n",
    "    \"ranges\": 21,\n",
    "    \"backrefs\": 21,\n",
    "    \"abba\": 21,\n",
    "    \"aman-aplan\": 19,\n",
    "    \"prime\": 19,\n",
    "    \"four\": 21,\n",
    "    \"order\": 21,\n",
    "    \"triples\": 21,\n",
    "    \"glob\": 0,\n",
    "    \"balance\": 31,\n",
    "    \"powers\": 11,\n",
    "    \"long-count\": 1,\n",
    "    \"alphabetical\": 17,\n",
    "}\n",
    "\n",
    "FITNESS_LINE = go.Scatter(\n",
    "    name=\"Max Fitness\",\n",
    "    x=list(MAX_FITNESS.keys()),\n",
    "    y=list(MAX_FITNESS.values()),\n",
    "    mode='markers',\n",
    "    type='scatter',\n",
    ")\n",
    "\n",
    "BARTOLI_LINE = go.Scatter(\n",
    "    name=\"Bartoli Fitness\",\n",
    "    x=list(BARTOLI_FITNESS.keys()),\n",
    "    y=list(BARTOLI_FITNESS.values()),\n",
    "    mode='markers',\n",
    "    type='scatter',\n",
    ")\n",
    "\n",
    "NORVIG_LINE = go.Scatter(\n",
    "    name=\"Norvig Fitness\",\n",
    "    x=list(NORVIG_FITNESS.keys()),\n",
    "    y=list(NORVIG_FITNESS.values()),\n",
    "    mode='markers',\n",
    "    type='scatter',\n",
    ")\n",
    "\n",
    "# Importando os dados\n",
    "OLD_ILS_S = pandas.read_csv(\"../06/ILS_Shrink.csv\").sort_values(by=[\"Nome\"])\n",
    "ILS_S = pandas.read_csv(\"../../results/2018-06-02/ILS_Shrink.csv\").sort_values(by=['Nome'])\n",
    "\n"
   ]
  },
  {
   "cell_type": "code",
   "execution_count": 3,
   "metadata": {},
   "outputs": [
    {
     "data": {
      "text/html": [
       "<iframe id=\"igraph\" scrolling=\"no\" style=\"border:none;\" seamless=\"seamless\" src=\"https://plot.ly/~andrefarzat/513.embed\" height=\"525px\" width=\"100%\"></iframe>"
      ],
      "text/plain": [
       "<plotly.tools.PlotlyDisplay object>"
      ]
     },
     "execution_count": 3,
     "metadata": {},
     "output_type": "execute_result"
    }
   ],
   "source": [
    "# Boxplot comparando 'melhor fitness'\n",
    "data = [\n",
    "    FITNESS_LINE,\n",
    "    BARTOLI_LINE,\n",
    "    NORVIG_LINE,\n",
    "    go.Box(name=\"ILS_S\", x=ILS_S.Nome, y=ILS_S.Melhor_fitness),\n",
    "    go.Box(name=\"OLD\", x=OLD_ILS_S.Nome, y=OLD_ILS_S.Melhor_fitness),\n",
    "]\n",
    "\n",
    "layout = go.Layout(title=\"Melhor fitness\",\n",
    "                xaxis=dict(title='Instâncias'),\n",
    "                yaxis=dict(title='fitness'),\n",
    "                boxmode='group')\n",
    "fig = go.Figure(data=data, layout=layout)\n",
    "\n",
    "py.iplot(fig)\n"
   ]
  },
  {
   "cell_type": "code",
   "execution_count": 5,
   "metadata": {},
   "outputs": [
    {
     "ename": "AttributeError",
     "evalue": "'DataFrameGroupBy' object has no attribute 'Numero_de_comparacoes'",
     "output_type": "error",
     "traceback": [
      "\u001b[0;31m---------------------------------------------------------------------------\u001b[0m",
      "\u001b[0;31mAttributeError\u001b[0m                            Traceback (most recent call last)",
      "\u001b[0;32m<ipython-input-5-ccb55a6b28c6>\u001b[0m in \u001b[0;36m<module>\u001b[0;34m()\u001b[0m\n\u001b[1;32m     24\u001b[0m \u001b[0;34m\u001b[0m\u001b[0m\n\u001b[1;32m     25\u001b[0m \u001b[0;32mfor\u001b[0m \u001b[0mkey\u001b[0m\u001b[0;34m,\u001b[0m \u001b[0mvalues\u001b[0m \u001b[0;32min\u001b[0m \u001b[0mDATA\u001b[0m\u001b[0;34m.\u001b[0m\u001b[0mitems\u001b[0m\u001b[0;34m(\u001b[0m\u001b[0;34m)\u001b[0m\u001b[0;34m:\u001b[0m\u001b[0;34m\u001b[0m\u001b[0m\n\u001b[0;32m---> 26\u001b[0;31m     \u001b[0mdata\u001b[0m\u001b[0;34m.\u001b[0m\u001b[0mappend\u001b[0m\u001b[0;34m(\u001b[0m\u001b[0mgo\u001b[0m\u001b[0;34m.\u001b[0m\u001b[0mBox\u001b[0m\u001b[0;34m(\u001b[0m\u001b[0mname\u001b[0m\u001b[0;34m=\u001b[0m\u001b[0mkey\u001b[0m\u001b[0;34m,\u001b[0m \u001b[0mx\u001b[0m\u001b[0;34m=\u001b[0m\u001b[0mDATA\u001b[0m\u001b[0;34m[\u001b[0m\u001b[0mkey\u001b[0m\u001b[0;34m]\u001b[0m\u001b[0;34m.\u001b[0m\u001b[0mNome\u001b[0m\u001b[0;34m,\u001b[0m \u001b[0my\u001b[0m\u001b[0;34m=\u001b[0m\u001b[0mDATA\u001b[0m\u001b[0;34m[\u001b[0m\u001b[0mkey\u001b[0m\u001b[0;34m]\u001b[0m\u001b[0;34m.\u001b[0m\u001b[0mNumero_de_comparacoes\u001b[0m\u001b[0;34m)\u001b[0m\u001b[0;34m)\u001b[0m\u001b[0;34m\u001b[0m\u001b[0m\n\u001b[0m\u001b[1;32m     27\u001b[0m \u001b[0;34m\u001b[0m\u001b[0m\n\u001b[1;32m     28\u001b[0m \u001b[0mdata\u001b[0m\u001b[0;34m.\u001b[0m\u001b[0mappend\u001b[0m\u001b[0;34m(\u001b[0m\u001b[0mMAX_LINE\u001b[0m\u001b[0;34m)\u001b[0m\u001b[0;34m\u001b[0m\u001b[0m\n",
      "\u001b[0;32m/usr/local/Cellar/python3/3.6.0_1/Frameworks/Python.framework/Versions/3.6/lib/python3.6/site-packages/pandas/core/groupby.py\u001b[0m in \u001b[0;36m__getattr__\u001b[0;34m(self, attr)\u001b[0m\n\u001b[1;32m    674\u001b[0m \u001b[0;34m\u001b[0m\u001b[0m\n\u001b[1;32m    675\u001b[0m         raise AttributeError(\"%r object has no attribute %r\" %\n\u001b[0;32m--> 676\u001b[0;31m                              (type(self).__name__, attr))\n\u001b[0m\u001b[1;32m    677\u001b[0m \u001b[0;34m\u001b[0m\u001b[0m\n\u001b[1;32m    678\u001b[0m     \u001b[0mplot\u001b[0m \u001b[0;34m=\u001b[0m \u001b[0mproperty\u001b[0m\u001b[0;34m(\u001b[0m\u001b[0mGroupByPlot\u001b[0m\u001b[0;34m)\u001b[0m\u001b[0;34m\u001b[0m\u001b[0m\n",
      "\u001b[0;31mAttributeError\u001b[0m: 'DataFrameGroupBy' object has no attribute 'Numero_de_comparacoes'"
     ]
    }
   ],
   "source": [
    "# Médias de número de comparações para encontrar melhor fitness pelo tempo\n",
    "\n",
    "DATA = {\n",
    "    '01': pandas.read_csv('../01/ILS_shrink.csv').query('Timed_out == False & Melhor_fitness > 0').groupby([OLD_ILS_S.Nome]),\n",
    "    '02': pandas.read_csv('../02/ILS_S.csv').query('Timed_out == False & Melhor_fitness > 0').groupby([OLD_ILS_S.Nome]),\n",
    "    '03': pandas.read_csv('../03/ILS_Shrink.csv').query('Timed_out == False & Melhor_fitness > 0').groupby([OLD_ILS_S.Nome]),\n",
    "    '04': pandas.read_csv('../04/ILS_Shrink.csv').query('Timed_out == False & Melhor_fitness > 0').groupby([OLD_ILS_S.Nome]),\n",
    "    '05': pandas.read_csv('../05/ILS_Shrink.csv').query('Timed_out == False & Melhor_fitness > 0').groupby([OLD_ILS_S.Nome]),\n",
    "}\n",
    "\n",
    "\n",
    "MAX_LINE = go.Scatter(name=\"Máximo\", x=ILS_S.Nome.unique(), y=[600000 for i in range(8)], mode='lines', marker=go.Marker(color='rgb(255, 77, 77)'))\n",
    "\n",
    "\n",
    "data = []\n",
    "\n",
    "for key, values in DATA.items():\n",
    "    data.append(go.Box(name=key, x=DATA[key].Nome, y=DATA[key].Numero_de_comparacoes))\n",
    "\n",
    "data.append(MAX_LINE)\n",
    "\n",
    "layout = go.Layout(title=\"Número de comparações até encontrar Melhor Fitness\",\n",
    "                xaxis=dict(title='Instâncias'),\n",
    "                yaxis=dict(title='Quantidade de comprações'),\n",
    "                boxmode='group')\n",
    "fig = go.Figure(data=data, layout=layout)\n",
    "\n",
    "py.iplot(fig)\n"
   ]
  },
  {
   "cell_type": "code",
   "execution_count": null,
   "metadata": {},
   "outputs": [],
   "source": []
  }
 ],
 "metadata": {
  "kernelspec": {
   "display_name": "Python 3",
   "language": "python",
   "name": "python3"
  },
  "language_info": {
   "codemirror_mode": {
    "name": "ipython",
    "version": 3
   },
   "file_extension": ".py",
   "mimetype": "text/x-python",
   "name": "python",
   "nbconvert_exporter": "python",
   "pygments_lexer": "ipython3",
   "version": "3.6.0"
  }
 },
 "nbformat": 4,
 "nbformat_minor": 2
}
