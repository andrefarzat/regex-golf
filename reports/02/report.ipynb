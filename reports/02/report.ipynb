{
 "cells": [
  {
   "cell_type": "code",
   "execution_count": 1,
   "metadata": {},
   "outputs": [],
   "source": [
    "import plotly\n",
    "import pandas\n",
    "import numpy\n",
    "import scipy\n",
    "import plotly.plotly as py\n",
    "import plotly.graph_objs as go\n",
    "\n",
    "# Importando os dados\n",
    "RRLS = pandas.read_csv(\"RRLS.csv\")\n",
    "ILS = pandas.read_csv(\"ILS.csv\")\n",
    "ILS_S = pandas.read_csv(\"ILS_S.csv\")\n",
    "\n",
    "MAX_FITNESS = {\"abba\": 43, \"aman-aplan\": 40, \"anchors\": 42, \"four\": 42, \"order\": 42, \"ranges\": 42, \"triples\": 42,\"words\": 40}\n",
    "FITNESS_LINE = go.Scatter(name=\"Max Fitness\", x=list(MAX_FITNESS.keys()), y=list(MAX_FITNESS.values()), mode='lines', marker=go.Marker(color='rgb(255, 77, 77)'))\n"
   ]
  },
  {
   "cell_type": "code",
   "execution_count": 3,
   "metadata": {},
   "outputs": [
    {
     "data": {
      "text/html": [
       "<iframe id=\"igraph\" scrolling=\"no\" style=\"border:none;\" seamless=\"seamless\" src=\"https://plot.ly/~andrefarzat/353.embed\" height=\"525px\" width=\"100%\"></iframe>"
      ],
      "text/plain": [
       "<plotly.tools.PlotlyDisplay object>"
      ]
     },
     "execution_count": 3,
     "metadata": {},
     "output_type": "execute_result"
    }
   ],
   "source": [
    "# Boxplot comparando 'melhor fitness'\n",
    "data = [\n",
    "    go.Box(name=\"RRLS\", x=RRLS.Nome, y=RRLS.Melhor_fitness),\n",
    "    go.Box(name=\"ILS\", x=ILS.Nome, y=ILS.Melhor_fitness),\n",
    "    go.Box(name=\"ILS_S\", x=ILS_S.Nome, y=ILS_S.Melhor_fitness),\n",
    "    FITNESS_LINE,\n",
    "]\n",
    "\n",
    "layout = go.Layout(title=\"Melhor fitness\",\n",
    "                xaxis=dict(title='Instâncias'),\n",
    "                yaxis=dict(title='fitness'),\n",
    "                boxmode='group')\n",
    "fig = go.Figure(data=data, layout=layout)\n",
    "\n",
    "py.iplot(fig)"
   ]
  },
  {
   "cell_type": "code",
   "execution_count": 6,
   "metadata": {},
   "outputs": [
    {
     "data": {
      "text/html": [
       "<iframe id=\"igraph\" scrolling=\"no\" style=\"border:none;\" seamless=\"seamless\" src=\"https://plot.ly/~andrefarzat/359.embed\" height=\"525px\" width=\"100%\"></iframe>"
      ],
      "text/plain": [
       "<plotly.tools.PlotlyDisplay object>"
      ]
     },
     "execution_count": 6,
     "metadata": {},
     "output_type": "execute_result"
    }
   ],
   "source": [
    "# Bloxplot comparando 'melhor fitness' excluindo dados que timed out\n",
    "local_RRLS = RRLS.query('Timed_out == False & Melhor_fitness > 0')\n",
    "local_ILS = ILS.query('Timed_out == False & Melhor_fitness > 0')\n",
    "local_ILS_S = ILS_S.query('Timed_out == False & Melhor_fitness > 0')\n",
    "\n",
    "data = [\n",
    "    go.Box(name=\"RRLS\", x=local_RRLS.Nome, y=local_RRLS.Melhor_fitness),\n",
    "    go.Box(name=\"ILS\", x=local_ILS.Nome, y=local_ILS.Melhor_fitness),\n",
    "    go.Box(name=\"ILS_S\", x=local_ILS_S.Nome, y=local_ILS_S.Melhor_fitness),\n",
    "]\n",
    "\n",
    "layout = go.Layout(title=\"Melhor fitness (excluindo timed outs)\",\n",
    "                xaxis=dict(title='Instâncias'),\n",
    "                yaxis=dict(title='fitness'),\n",
    "                boxmode='group')\n",
    "fig = go.Figure(data=data, layout=layout)\n",
    "\n",
    "py.iplot(fig)"
   ]
  },
  {
   "cell_type": "code",
   "execution_count": null,
   "metadata": {},
   "outputs": [],
   "source": []
  }
 ],
 "metadata": {
  "kernelspec": {
   "display_name": "Python 3",
   "language": "python",
   "name": "python3"
  },
  "language_info": {
   "codemirror_mode": {
    "name": "ipython",
    "version": 3
   },
   "file_extension": ".py",
   "mimetype": "text/x-python",
   "name": "python",
   "nbconvert_exporter": "python",
   "pygments_lexer": "ipython3",
   "version": "3.6.0"
  }
 },
 "nbformat": 4,
 "nbformat_minor": 2
}
