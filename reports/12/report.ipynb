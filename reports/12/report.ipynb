{
 "cells": [
  {
   "cell_type": "code",
   "execution_count": 1,
   "metadata": {},
   "outputs": [],
   "source": [
    "import plotly\n",
    "import pandas\n",
    "import numpy\n",
    "import scipy\n",
    "import plotly.plotly as py\n",
    "import plotly.graph_objs as go\n",
    "\n",
    "from plotly.graph_objs.scatter import Marker\n",
    "\n",
    "OUR_MAX_FITNESS = {\n",
    "    \"warmup\": 268,\n",
    "    \"anchors\": 355,\n",
    "    \"ranges\": 212,\n",
    "    \"backrefs\": 423,\n",
    "    \"abba\": 439,\n",
    "    \"aman-aplan\": 302,\n",
    "    \"prime\": 1035,\n",
    "    \"four\": 471,\n",
    "    \"order\": 277,\n",
    "    \"triples\": 378,\n",
    "    \"glob\": 1255,\n",
    "    \"balance\": 2209,\n",
    "    \"powers\": 4396,\n",
    "    \"long-count\": 1659,\n",
    "    \"alphabetical\": 1632,\n",
    "}\n",
    "\n",
    "# Fitness máximo possível para cada instância do problema\n",
    "MAX_FITNESS = {\n",
    "    \"warmup\": 21,\n",
    "    \"anchors\": 21,\n",
    "    \"ranges\": 21,\n",
    "    \"backrefs\": 21,\n",
    "    \"abba\": 22,\n",
    "    \"aman-aplan\": 19,\n",
    "    \"prime\": 20,\n",
    "    \"four\": 21,\n",
    "    \"order\": 21,\n",
    "    \"triples\": 21,\n",
    "    \"glob\": 21,\n",
    "    \"balance\": 32,\n",
    "    \"powers\": 11,\n",
    "    \"long-count\": 1,\n",
    "    \"alphabetical\": 17,\n",
    "}\n",
    "\n",
    "# Fitness que o Bartoli conseguiu segundo expressão regular gerada\n",
    "BARTOLI_FITNESS = {\n",
    "    \"warmup\": 21,\n",
    "    \"anchors\": 21,\n",
    "    \"ranges\": 21,\n",
    "    \"backrefs\": 18,\n",
    "    \"abba\": 20,\n",
    "    \"aman-aplan\": 16,\n",
    "    \"prime\": 13,\n",
    "    \"four\": 21,\n",
    "    \"order\": 21,\n",
    "    \"triples\": 15,\n",
    "    \"glob\": 19,\n",
    "    \"balance\": 29,\n",
    "    \"powers\": 7,\n",
    "    \"long-count\": 1,\n",
    "    \"alphabetical\": 12,\n",
    "}\n",
    "\n",
    "NORVIG_FITNESS = {\n",
    "    \"warmup\": 21,\n",
    "    \"anchors\": 21,\n",
    "    \"ranges\": 21,\n",
    "    \"backrefs\": 21,\n",
    "    \"abba\": 21,\n",
    "    \"aman-aplan\": 19,\n",
    "    \"prime\": 19,\n",
    "    \"four\": 21,\n",
    "    \"order\": 21,\n",
    "    \"triples\": 21,\n",
    "    \"glob\": 0,\n",
    "    \"balance\": 31,\n",
    "    \"powers\": 11,\n",
    "    \"long-count\": 1,\n",
    "    \"alphabetical\": 17,\n",
    "}\n",
    "\n",
    "\n",
    "OUR_FITNESS_LINE = go.Scatter(\n",
    "    name=\"Pontuação Máxima\",\n",
    "    x=list(OUR_MAX_FITNESS.keys()),\n",
    "    y=list(OUR_MAX_FITNESS.values()),\n",
    "    mode='lines',\n",
    ")\n",
    "\n",
    "FITNESS_LINE = go.Scatter(\n",
    "    name=\"Pontuação Máxima\",\n",
    "    x=list(MAX_FITNESS.keys()),\n",
    "    y=list(MAX_FITNESS.values()),\n",
    "    mode='lines',\n",
    ")\n",
    "\n",
    "BARTOLI_LINE = go.Scatter(\n",
    "    name=\"Algoritmo Genético\",\n",
    "    x=list(BARTOLI_FITNESS.keys()),\n",
    "    y=list(BARTOLI_FITNESS.values()),\n",
    "    mode='markers',\n",
    ")\n",
    "\n",
    "NORVIG_LINE = go.Scatter(\n",
    "    name=\"Algoritmo Exato (Norvig)\",\n",
    "    x=list(NORVIG_FITNESS.keys()),\n",
    "    y=list(NORVIG_FITNESS.values()),\n",
    "    mode='markers',\n",
    ")\n",
    "\n",
    "\n",
    "COLOR_GREEN = \"#00b100\"\n",
    "COLOR_RED   = \"#cc0000\"\n",
    "\n",
    "\n",
    "# Importando os dados\n",
    "ILS_S_300k = pandas.read_csv(\"./ILS_Shrink_300k.csv\") #.sort_values(by=['Nome'])\n",
    "ILS_S_600k = pandas.read_csv(\"./ILS_Shrink_600k.csv\") #.sort_values(by=['Nome'])\n",
    "\n",
    "ILS_S_300k.Tempo_total = ILS_S_300k.Tempo_total.map(lambda x: x // 1000)\n",
    "ILS_S_600k.Tempo_total = ILS_S_600k.Tempo_total.map(lambda x: x // 1000)\n",
    "\n",
    "ILS_S_300k.Tempo_para_encontrar_melhor_solucao = ILS_S_300k.Tempo_para_encontrar_melhor_solucao.map(lambda x: x // 1000)\n",
    "ILS_S_600k.Tempo_para_encontrar_melhor_solucao = ILS_S_600k.Tempo_para_encontrar_melhor_solucao.map(lambda x: x // 1000)\n",
    "\n",
    "# Número de timeouts\n",
    "\n",
    "def get_timeout_graph(title, d):\n",
    "    nomes = pandas.unique(d.Nome)\n",
    "    timedout = []\n",
    "    not_timedout = []\n",
    "    \n",
    "    for nome in pandas.unique(d.Nome):\n",
    "        i = len(d[(d.Nome == nome) & (d.Timed_out == 0)].Nome)\n",
    "        not_timedout.append(i)\n",
    "\n",
    "        i = len(d[(d.Nome == nome) & (d.Timed_out == 1)].Nome)\n",
    "        timedout.append(i)\n",
    "        \n",
    "    trace1 = go.Bar(\n",
    "        name='ok', \n",
    "        x=nomes,\n",
    "        y=not_timedout,\n",
    "        marker=dict(color=COLOR_GREEN),\n",
    "        textposition='auto',\n",
    "        text=not_timedout)\n",
    "    \n",
    "    trace2 = go.Bar(\n",
    "        name='Timedout',\n",
    "        x=nomes,\n",
    "        y=timedout,\n",
    "        marker=dict(color=COLOR_RED),\n",
    "        textposition='auto',\n",
    "        text=timedout)\n",
    "    \n",
    "    layout = go.Layout(title=title, barmode='stack')\n",
    "    fig = go.Figure(data=[trace1, trace2], layout=layout)\n",
    "    return py.iplot(fig, filename=title)\n"
   ]
  },
  {
   "cell_type": "code",
   "execution_count": 2,
   "metadata": {},
   "outputs": [
    {
     "data": {
      "text/html": [
       "<iframe id=\"igraph\" scrolling=\"no\" style=\"border:none;\" seamless=\"seamless\" src=\"https://plot.ly/~andrefarzat/898.embed\" height=\"525px\" width=\"100%\"></iframe>"
      ],
      "text/plain": [
       "<plotly.tools.PlotlyDisplay object>"
      ]
     },
     "execution_count": 2,
     "metadata": {},
     "output_type": "execute_result"
    }
   ],
   "source": [
    "get_timeout_graph('ok / Timedout 300k', ILS_S_300k)"
   ]
  },
  {
   "cell_type": "code",
   "execution_count": 3,
   "metadata": {},
   "outputs": [
    {
     "data": {
      "text/html": [
       "<iframe id=\"igraph\" scrolling=\"no\" style=\"border:none;\" seamless=\"seamless\" src=\"https://plot.ly/~andrefarzat/900.embed\" height=\"525px\" width=\"100%\"></iframe>"
      ],
      "text/plain": [
       "<plotly.tools.PlotlyDisplay object>"
      ]
     },
     "execution_count": 3,
     "metadata": {},
     "output_type": "execute_result"
    }
   ],
   "source": [
    "get_timeout_graph('ok / Timedout 600k', ILS_S_600k)"
   ]
  },
  {
   "cell_type": "code",
   "execution_count": 4,
   "metadata": {},
   "outputs": [
    {
     "data": {
      "text/html": [
       "<iframe id=\"igraph\" scrolling=\"no\" style=\"border:none;\" seamless=\"seamless\" src=\"https://plot.ly/~andrefarzat/950.embed\" height=\"525px\" width=\"100%\"></iframe>"
      ],
      "text/plain": [
       "<plotly.tools.PlotlyDisplay object>"
      ]
     },
     "execution_count": 4,
     "metadata": {},
     "output_type": "execute_result"
    }
   ],
   "source": [
    "# Boxplot comparando 'Tempo total de execução' entre os ILS_S\n",
    "ONE_MINUTE_LINE = go.Scatter(name=\"1 minute\",\n",
    "                             x=ILS_S_300k.Nome,\n",
    "                             y=[60 for i in ILS_S_300k.Nome],\n",
    "                             mode='lines')\n",
    "\n",
    "TWO_MINUTES_LINE = go.Scatter(name=\"2 minutes\",\n",
    "                              x=ILS_S_300k.Nome,\n",
    "                              y=[120 for i in ILS_S_300k.Nome],\n",
    "                              mode='lines')\n",
    "\n",
    "THREE_MINUTES_LINE = go.Scatter(name=\"3 minutes\",\n",
    "                                x=ILS_S_300k.Nome,\n",
    "                                y=[180 for i in ILS_S_300k.Nome],\n",
    "                                mode='lines')\n",
    "\n",
    "FOUR_MINUTES_LINE = go.Scatter(name=\"4 minutes\",\n",
    "                               x=ILS_S_300k.Nome,\n",
    "                               y=[240 for i in ILS_S_300k.Nome],\n",
    "                               mode='lines')\n",
    "\n",
    "FIVE_MINUTES_LINE = go.Scatter(name=\"5 minutes\",\n",
    "                               x=ILS_S_300k.Nome,\n",
    "                               y=[300 for i in ILS_S_300k.Nome],\n",
    "                               mode='lines')\n",
    "\n",
    "data = [\n",
    "    ONE_MINUTE_LINE,\n",
    "    TWO_MINUTES_LINE,\n",
    "    THREE_MINUTES_LINE,\n",
    "    FOUR_MINUTES_LINE,\n",
    "    FIVE_MINUTES_LINE,\n",
    "    go.Box(name=\"ILS_S 300k\", x=ILS_S_300k.Nome, y=ILS_S_300k.Tempo_total, marker=dict(color=COLOR_GREEN)),\n",
    "    go.Box(name=\"ILS_S 600k\", x=ILS_S_600k.Nome, y=ILS_S_600k.Tempo_total, marker=dict(color=COLOR_RED)),\n",
    "]\n",
    "\n",
    "layout = go.Layout(title=\"Tempo total de execução em seconds (com Timedout)\",\n",
    "                xaxis=dict(title='Instâncias'),\n",
    "                yaxis=dict(title='fitness'),\n",
    "                boxmode='group')\n",
    "fig = go.Figure(data=data, layout=layout)\n",
    "py.iplot(fig)"
   ]
  },
  {
   "cell_type": "code",
   "execution_count": 5,
   "metadata": {},
   "outputs": [
    {
     "data": {
      "text/html": [
       "<iframe id=\"igraph\" scrolling=\"no\" style=\"border:none;\" seamless=\"seamless\" src=\"https://plot.ly/~andrefarzat/952.embed\" height=\"525px\" width=\"100%\"></iframe>"
      ],
      "text/plain": [
       "<plotly.tools.PlotlyDisplay object>"
      ]
     },
     "execution_count": 5,
     "metadata": {},
     "output_type": "execute_result"
    }
   ],
   "source": [
    "data = [\n",
    "    ONE_MINUTE_LINE,\n",
    "    go.Box(name=\"ILS_S 300k\", x=ILS_S_300k[(ILS_S_300k.Timed_out == 0)].Nome, y=ILS_S_300k[(ILS_S_300k.Timed_out == 0)].Tempo_total, marker=dict(color=COLOR_GREEN)),\n",
    "    go.Box(name=\"ILS_S 600k\", x=ILS_S_600k[(ILS_S_600k.Timed_out == 0)].Nome, y=ILS_S_600k[(ILS_S_600k.Timed_out == 0)].Tempo_total, marker=dict(color=COLOR_RED)),\n",
    "]\n",
    "\n",
    "layout = go.Layout(title=\"Tempo total de execução em seconds (sem Timedout)\",\n",
    "                xaxis=dict(title='Instâncias'),\n",
    "                yaxis=dict(title='fitness'),\n",
    "                boxmode='group')\n",
    "fig = go.Figure(data=data, layout=layout)\n",
    "py.iplot(fig)"
   ]
  },
  {
   "cell_type": "code",
   "execution_count": 6,
   "metadata": {},
   "outputs": [
    {
     "data": {
      "text/html": [
       "<iframe id=\"igraph\" scrolling=\"no\" style=\"border:none;\" seamless=\"seamless\" src=\"https://plot.ly/~andrefarzat/954.embed\" height=\"525px\" width=\"100%\"></iframe>"
      ],
      "text/plain": [
       "<plotly.tools.PlotlyDisplay object>"
      ]
     },
     "execution_count": 6,
     "metadata": {},
     "output_type": "execute_result"
    }
   ],
   "source": [
    "# Médias de número de comparações para encontrar melhor fitness\n",
    "\n",
    "\n",
    "MAX_LINE_1 = go.Scatter(name=\"300k line\", x=ILS_S_300k.Nome.unique(), y=[300000 for i in range(15)], mode='lines', marker=Marker(color='rgb(102, 51, 153)'))\n",
    "MAX_LINE_2 = go.Scatter(name=\"600k line\", x=ILS_S_300k.Nome.unique(), y=[600000 for i in range(15)], mode='lines', marker=Marker(color='rgb(255, 77, 77)'))\n",
    "\n",
    "\n",
    "data = [\n",
    "    go.Box(name=\"ILS_S 300k\", x=ILS_S_300k.Nome, y=ILS_S_300k.Numero_de_comparacoes, marker=dict(color=COLOR_GREEN)),\n",
    "    go.Box(name=\"ILS_S 600k\", x=ILS_S_600k.Nome, y=ILS_S_600k.Numero_de_comparacoes, marker=dict(color=COLOR_RED)),\n",
    "    \n",
    "    MAX_LINE_1,\n",
    "    MAX_LINE_2,\n",
    "]\n",
    "\n",
    "layout = go.Layout(title=\"Número de comparações até encontrar Melhor Fitness\",\n",
    "                xaxis=dict(title='Instâncias'),\n",
    "                yaxis=dict(title='Quantidade de comprações'),\n",
    "                boxmode='group')\n",
    "fig = go.Figure(data=data, layout=layout)\n",
    "\n",
    "py.iplot(fig)"
   ]
  },
  {
   "cell_type": "code",
   "execution_count": 8,
   "metadata": {},
   "outputs": [
    {
     "data": {
      "text/html": [
       "<iframe id=\"igraph\" scrolling=\"no\" style=\"border:none;\" seamless=\"seamless\" src=\"https://plot.ly/~andrefarzat/956.embed\" height=\"525px\" width=\"100%\"></iframe>"
      ],
      "text/plain": [
       "<plotly.tools.PlotlyDisplay object>"
      ]
     },
     "execution_count": 8,
     "metadata": {},
     "output_type": "execute_result"
    }
   ],
   "source": [
    "data = [\n",
    "    ONE_MINUTE_LINE,\n",
    "    TWO_MINUTES_LINE,\n",
    "    go.Box(name=\"300k\", x=ILS_S_300k.Nome, y=ILS_S_300k.Tempo_para_encontrar_melhor_solucao, marker=dict(color=COLOR_GREEN)),\n",
    "    go.Box(name=\"600k\", x=ILS_S_600k.Nome, y=ILS_S_600k.Tempo_para_encontrar_melhor_solucao, marker=dict(color=COLOR_RED)),\n",
    "]\n",
    "\n",
    "layout = go.Layout(title=\"Tempo até encontrar a melhor solução (em segundos)\",\n",
    "                xaxis=dict(title='Instâncias'),\n",
    "                yaxis=dict(title='Tempo até melhor solução'),\n",
    "                boxmode='group')\n",
    "fig = go.Figure(data=data, layout=layout)\n",
    "\n",
    "py.iplot(fig)"
   ]
  },
  {
   "cell_type": "code",
   "execution_count": 9,
   "metadata": {},
   "outputs": [
    {
     "data": {
      "text/html": [
       "<iframe id=\"igraph\" scrolling=\"no\" style=\"border:none;\" seamless=\"seamless\" src=\"https://plot.ly/~andrefarzat/958.embed\" height=\"525px\" width=\"100%\"></iframe>"
      ],
      "text/plain": [
       "<plotly.tools.PlotlyDisplay object>"
      ]
     },
     "execution_count": 9,
     "metadata": {},
     "output_type": "execute_result"
    }
   ],
   "source": [
    "data = [\n",
    "    ONE_MINUTE_LINE,\n",
    "    go.Box(name=\"300k\", x=ILS_S_300k[(ILS_S_300k.Timed_out == 0)].Nome, y=ILS_S_300k[(ILS_S_300k.Timed_out == 0)].Tempo_para_encontrar_melhor_solucao, marker=dict(color=COLOR_GREEN)),\n",
    "    go.Box(name=\"600k\", x=ILS_S_600k[(ILS_S_600k.Timed_out == 0)].Nome, y=ILS_S_600k[(ILS_S_600k.Timed_out == 0)].Tempo_para_encontrar_melhor_solucao, marker=dict(color=COLOR_RED)),\n",
    "]\n",
    "\n",
    "layout = go.Layout(title=\"Tempo até encontrar a melhor solução sem Timedout (em segundos)\",\n",
    "                xaxis=dict(title='Instâncias'),\n",
    "                yaxis=dict(title='Tempo até melhor solução'),\n",
    "                boxmode='group')\n",
    "fig = go.Figure(data=data, layout=layout)\n",
    "\n",
    "py.iplot(fig)"
   ]
  },
  {
   "cell_type": "code",
   "execution_count": 10,
   "metadata": {},
   "outputs": [
    {
     "data": {
      "text/html": [
       "<iframe id=\"igraph\" scrolling=\"no\" style=\"border:none;\" seamless=\"seamless\" src=\"https://plot.ly/~andrefarzat/960.embed\" height=\"525px\" width=\"100%\"></iframe>"
      ],
      "text/plain": [
       "<plotly.tools.PlotlyDisplay object>"
      ]
     },
     "execution_count": 10,
     "metadata": {},
     "output_type": "execute_result"
    }
   ],
   "source": [
    "# Boxplot comparando 'melhor fitness'\n",
    "data = [\n",
    "    FITNESS_LINE,\n",
    "    go.Box(name=\"300k\", x=ILS_S_300k.Nome, y=ILS_S_300k.Melhor_fitness, marker=dict(color=COLOR_GREEN)),\n",
    "    go.Box(name=\"600k\", x=ILS_S_600k.Nome, y=ILS_S_600k.Melhor_fitness, marker=dict(color=COLOR_RED)),\n",
    "]\n",
    "\n",
    "layout = go.Layout(title=\"Melhor fitness\",\n",
    "                xaxis=dict(title='Instâncias'),\n",
    "                yaxis=dict(title='fitness'),\n",
    "                boxmode='group')\n",
    "fig = go.Figure(data=data, layout=layout)\n",
    "\n",
    "py.iplot(fig)\n"
   ]
  },
  {
   "cell_type": "code",
   "execution_count": 11,
   "metadata": {},
   "outputs": [
    {
     "data": {
      "text/html": [
       "<iframe id=\"igraph\" scrolling=\"no\" style=\"border:none;\" seamless=\"seamless\" src=\"https://plot.ly/~andrefarzat/962.embed\" height=\"525px\" width=\"100%\"></iframe>"
      ],
      "text/plain": [
       "<plotly.tools.PlotlyDisplay object>"
      ]
     },
     "execution_count": 11,
     "metadata": {},
     "output_type": "execute_result"
    }
   ],
   "source": [
    "# Boxplot comparando 'nosso fitness'\n",
    "data = [\n",
    "    OUR_FITNESS_LINE,\n",
    "    go.Box(name=\"300k\", x=ILS_S_300k.Nome, y=ILS_S_300k.Nossa_fitness, marker=dict(color=COLOR_GREEN)),\n",
    "    go.Box(name=\"600k\", x=ILS_S_600k.Nome, y=ILS_S_600k.Nossa_fitness, marker=dict(color=COLOR_RED)),\n",
    "]\n",
    "\n",
    "layout = go.Layout(title=\"Nossa fitness\",\n",
    "                xaxis=dict(title='Instâncias'),\n",
    "                yaxis=dict(title='fitness'),\n",
    "                boxmode='group')\n",
    "fig = go.Figure(data=data, layout=layout)\n",
    "\n",
    "py.iplot(fig)"
   ]
  },
  {
   "cell_type": "code",
   "execution_count": null,
   "metadata": {},
   "outputs": [],
   "source": []
  },
  {
   "cell_type": "code",
   "execution_count": null,
   "metadata": {},
   "outputs": [],
   "source": []
  }
 ],
 "metadata": {
  "kernelspec": {
   "display_name": "Python 3",
   "language": "python",
   "name": "python3"
  },
  "language_info": {
   "codemirror_mode": {
    "name": "ipython",
    "version": 3
   },
   "file_extension": ".py",
   "mimetype": "text/x-python",
   "name": "python",
   "nbconvert_exporter": "python",
   "pygments_lexer": "ipython3",
   "version": "3.7.0"
  }
 },
 "nbformat": 4,
 "nbformat_minor": 2
}
