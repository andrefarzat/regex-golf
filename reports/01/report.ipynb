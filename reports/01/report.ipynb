{
 "cells": [
  {
   "cell_type": "code",
   "execution_count": 1,
   "metadata": {},
   "outputs": [],
   "source": [
    "import plotly\n",
    "import pandas\n",
    "import numpy\n",
    "import scipy\n",
    "import plotly.plotly as py\n",
    "import plotly.graph_objs as go"
   ]
  },
  {
   "cell_type": "code",
   "execution_count": 2,
   "metadata": {},
   "outputs": [],
   "source": [
    "# Importando os dados\n",
    "RRLS = pandas.read_csv(\"RRLS.csv\")\n",
    "ILS = pandas.read_csv(\"ILS.csv\")\n",
    "ILS_S = pandas.read_csv(\"ILS_shrink.csv\")\n",
    "\n",
    "MAX_FITNESS = {\"abba\": 43, \"aman-aplan\": 40, \"four\": 42, \"order\": 42, \"ranges\": 42, \"triples\": 42,\"words\": 40}\n",
    "FITNESS_LINE = go.Scatter(name=\"Max Fitness\", x=list(MAX_FITNESS.keys()), y=list(MAX_FITNESS.values()), mode='lines', marker=go.Marker(color='rgb(255, 77, 77)'))\n"
   ]
  },
  {
   "cell_type": "code",
   "execution_count": 3,
   "metadata": {},
   "outputs": [
    {
     "data": {
      "text/html": [
       "<iframe id=\"igraph\" scrolling=\"no\" style=\"border:none;\" seamless=\"seamless\" src=\"https://plot.ly/~andrefarzat/327.embed\" height=\"525px\" width=\"100%\"></iframe>"
      ],
      "text/plain": [
       "<plotly.tools.PlotlyDisplay object>"
      ]
     },
     "execution_count": 3,
     "metadata": {},
     "output_type": "execute_result"
    }
   ],
   "source": [
    "# Boxplot comparando 'melhor fitness'\n",
    "data = [\n",
    "    go.Box(name=\"RRLS\", x=RRLS.Nome, y=RRLS.Melhor_fitness),\n",
    "    go.Box(name=\"ILS\", x=ILS.Nome, y=ILS.Melhor_fitness),\n",
    "    go.Box(name=\"ILS_S\", x=ILS_S.Nome, y=ILS_S.Melhor_fitness),\n",
    "    FITNESS_LINE,\n",
    "]\n",
    "\n",
    "layout = go.Layout(title=\"Melhor fitness\",\n",
    "                xaxis=dict(title='Instâncias'),\n",
    "                yaxis=dict(title='fitness'),\n",
    "                boxmode='group')\n",
    "fig = go.Figure(data=data, layout=layout)\n",
    "\n",
    "py.iplot(fig)\n"
   ]
  },
  {
   "cell_type": "code",
   "execution_count": 4,
   "metadata": {},
   "outputs": [
    {
     "data": {
      "text/html": [
       "<iframe id=\"igraph\" scrolling=\"no\" style=\"border:none;\" seamless=\"seamless\" src=\"https://plot.ly/~andrefarzat/329.embed\" height=\"525px\" width=\"100%\"></iframe>"
      ],
      "text/plain": [
       "<plotly.tools.PlotlyDisplay object>"
      ]
     },
     "execution_count": 4,
     "metadata": {},
     "output_type": "execute_result"
    }
   ],
   "source": [
    "# Bloxplot comparando 'melhor fitness' excluindo dados que timed out\n",
    "local_RRLS = RRLS.query('Timed_out == False & Melhor_fitness > 0')\n",
    "local_ILS = ILS.query('Timed_out == False & Melhor_fitness > 0')\n",
    "local_ILS_S = ILS_S.query('Timed_out == False & Melhor_fitness > 0')\n",
    "\n",
    "data = [\n",
    "    go.Box(name=\"RRLS\", x=local_RRLS.Nome, y=local_RRLS.Melhor_fitness),\n",
    "    go.Box(name=\"ILS\", x=local_ILS.Nome, y=local_ILS.Melhor_fitness),\n",
    "    go.Box(name=\"ILS_S\", x=local_ILS_S.Nome, y=local_ILS_S.Melhor_fitness),\n",
    "    FITNESS_LINE,\n",
    "]\n",
    "\n",
    "layout = go.Layout(title=\"Melhor fitness (excluindo timed outs)\",\n",
    "                xaxis=dict(title='Instâncias'),\n",
    "                yaxis=dict(title='fitness'),\n",
    "                boxmode='group')\n",
    "fig = go.Figure(data=data, layout=layout)\n",
    "\n",
    "py.iplot(fig)\n"
   ]
  },
  {
   "cell_type": "code",
   "execution_count": 5,
   "metadata": {},
   "outputs": [
    {
     "data": {
      "text/html": [
       "<iframe id=\"igraph\" scrolling=\"no\" style=\"border:none;\" seamless=\"seamless\" src=\"https://plot.ly/~andrefarzat/331.embed\" height=\"525px\" width=\"100%\"></iframe>"
      ],
      "text/plain": [
       "<plotly.tools.PlotlyDisplay object>"
      ]
     },
     "execution_count": 5,
     "metadata": {},
     "output_type": "execute_result"
    }
   ],
   "source": [
    "# Médias de número de comparações para encontrar melhor fitness\n",
    "\n",
    "local_RRLS = RRLS.query('Timed_out == False & Melhor_fitness > 0').groupby([RRLS.Nome]).mean()\n",
    "local_ILS = ILS.query('Timed_out == False & Melhor_fitness > 0').groupby([ILS.Nome]).mean()\n",
    "local_ILS_S = ILS_S.query('Timed_out == False & Melhor_fitness > 0').groupby([ILS.Nome]).mean()\n",
    "\n",
    "MAX_LINE = go.Scatter(name=\"Máximo\", x=RRLS.Nome.unique(), y=[600000 for i in range(8)], mode='lines', marker=go.Marker(color='rgb(255, 77, 77)'))\n",
    "\n",
    "\n",
    "data = [\n",
    "    go.Bar(name=\"RRLS\", x=RRLS.Nome.unique(), y=local_RRLS.Numero_de_comparacoes),\n",
    "    go.Bar(name=\"ILS\", x=ILS.Nome.unique(), y=local_ILS.Numero_de_comparacoes),\n",
    "    go.Bar(name=\"ILS_S\", x=ILS_S.Nome.unique(), y=local_ILS_S.Numero_de_comparacoes),\n",
    "    MAX_LINE,\n",
    "]\n",
    "\n",
    "layout = go.Layout(title=\"Número de comparações até encontrar Melhor Fitness\",\n",
    "                xaxis=dict(title='Instâncias'),\n",
    "                yaxis=dict(title='Quantidade de comprações'),\n",
    "                boxmode='group')\n",
    "fig = go.Figure(data=data, layout=layout)\n",
    "\n",
    "py.iplot(fig)"
   ]
  },
  {
   "cell_type": "code",
   "execution_count": 6,
   "metadata": {},
   "outputs": [
    {
     "data": {
      "text/html": [
       "<iframe id=\"igraph\" scrolling=\"no\" style=\"border:none;\" seamless=\"seamless\" src=\"https://plot.ly/~andrefarzat/333.embed\" height=\"525px\" width=\"100%\"></iframe>"
      ],
      "text/plain": [
       "<plotly.tools.PlotlyDisplay object>"
      ]
     },
     "execution_count": 6,
     "metadata": {},
     "output_type": "execute_result"
    }
   ],
   "source": [
    "# Tempos para encontrar a melhor solução\n",
    "\n",
    "data = [\n",
    "    go.Box(name=\"RRLS\", x=RRLS.Nome, y=RRLS.Tempo_para_encontrar_melhor_solucao),\n",
    "    go.Box(name=\"ILS\", x=ILS.Nome, y=ILS.Tempo_para_encontrar_melhor_solucao),\n",
    "    go.Box(name=\"ILS_S\", x=ILS_S.Nome, y=ILS_S.Tempo_para_encontrar_melhor_solucao),\n",
    "]\n",
    "\n",
    "layout = go.Layout(title=\"Tempo para encontrar a melhor solução (em ms)\",\n",
    "                xaxis=dict(title='Instâncias'),\n",
    "                yaxis=dict(title='Tempo (ms)'),\n",
    "                boxmode='group')\n",
    "fig = go.Figure(data=data, layout=layout)\n",
    "\n",
    "py.iplot(fig)"
   ]
  },
  {
   "cell_type": "code",
   "execution_count": null,
   "metadata": {},
   "outputs": [],
   "source": []
  }
 ],
 "metadata": {
  "kernelspec": {
   "display_name": "Python 3",
   "language": "python",
   "name": "python3"
  },
  "language_info": {
   "codemirror_mode": {
    "name": "ipython",
    "version": 3
   },
   "file_extension": ".py",
   "mimetype": "text/x-python",
   "name": "python",
   "nbconvert_exporter": "python",
   "pygments_lexer": "ipython3",
   "version": "3.6.0"
  }
 },
 "nbformat": 4,
 "nbformat_minor": 2
}
