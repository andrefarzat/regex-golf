{
 "cells": [
  {
   "cell_type": "code",
   "execution_count": 1,
   "metadata": {},
   "outputs": [],
   "source": [
    "import plotly\n",
    "import pandas\n",
    "import numpy\n",
    "import scipy\n",
    "import plotly.plotly as py\n",
    "import plotly.graph_objs as go\n",
    "\n",
    "from plotly.graph_objs.scatter import Marker\n",
    "\n",
    "OUR_MAX_FITNESS = {\n",
    "    \"warmup\": 268,\n",
    "    \"anchors\": 355,\n",
    "    \"ranges\": 212,\n",
    "    \"backrefs\": 423,\n",
    "    \"abba\": 439,\n",
    "    \"aman-aplan\": 302,\n",
    "    \"prime\": 1035,\n",
    "    \"four\": 471,\n",
    "    \"order\": 277,\n",
    "    \"triples\": 378,\n",
    "    \"glob\": 1255,\n",
    "    \"balance\": 2209,\n",
    "    \"powers\": 4396,\n",
    "    \"long-count\": 1659,\n",
    "    \"alphabetical\": 1632,\n",
    "}\n",
    "\n",
    "# Fitness máximo possível para cada instância do problema\n",
    "MAX_FITNESS = {\n",
    "    \"warmup\": 21,\n",
    "    \"anchors\": 21,\n",
    "    \"ranges\": 21,\n",
    "    \"backrefs\": 21,\n",
    "    \"abba\": 22,\n",
    "    \"aman-aplan\": 19,\n",
    "    \"prime\": 20,\n",
    "    \"four\": 21,\n",
    "    \"order\": 21,\n",
    "    \"triples\": 21,\n",
    "    \"glob\": 21,\n",
    "    \"balance\": 32,\n",
    "    \"powers\": 11,\n",
    "    \"long-count\": 1,\n",
    "    \"alphabetical\": 17,\n",
    "}\n",
    "\n",
    "# Fitness que o Bartoli conseguiu segundo expressão regular gerada\n",
    "BARTOLI_FITNESS = {\n",
    "    \"warmup\": 21,\n",
    "    \"anchors\": 21,\n",
    "    \"ranges\": 21,\n",
    "    \"backrefs\": 18,\n",
    "    \"abba\": 20,\n",
    "    \"aman-aplan\": 16,\n",
    "    \"prime\": 13,\n",
    "    \"four\": 21,\n",
    "    \"order\": 21,\n",
    "    \"triples\": 15,\n",
    "    \"glob\": 19,\n",
    "    \"balance\": 29,\n",
    "    \"powers\": 7,\n",
    "    \"long-count\": 1,\n",
    "    \"alphabetical\": 12,\n",
    "}\n",
    "\n",
    "NORVIG_FITNESS = {\n",
    "    \"warmup\": 21,\n",
    "    \"anchors\": 21,\n",
    "    \"ranges\": 21,\n",
    "    \"backrefs\": 21,\n",
    "    \"abba\": 21,\n",
    "    \"aman-aplan\": 19,\n",
    "    \"prime\": 19,\n",
    "    \"four\": 21,\n",
    "    \"order\": 21,\n",
    "    \"triples\": 21,\n",
    "    \"glob\": 0,\n",
    "    \"balance\": 31,\n",
    "    \"powers\": 11,\n",
    "    \"long-count\": 1,\n",
    "    \"alphabetical\": 17,\n",
    "}\n",
    "\n",
    "\n",
    "COLOR_GREEN = \"#00b100\"\n",
    "COLOR_RED   = \"#cc0000\"\n",
    "COLOR_BLUE  = \"#0000cc\"\n",
    "COLOR_PURPLE = \"#663399\"\n",
    "COLOR_ORANGE = \"#ff4500\"\n",
    "COLOR_GRAY   = \"#827689\"\n",
    "\n",
    "\n",
    "\n",
    "COLORS = [\"#0dba86\", \"#0d98ba\", \"#0d42ba\"]\n",
    "\n",
    "\n",
    "OUR_FITNESS_LINE = go.Scatter(\n",
    "    name=\"Pontuação Máxima\",\n",
    "    x=list(OUR_MAX_FITNESS.keys()),\n",
    "    y=list(OUR_MAX_FITNESS.values()),\n",
    "    mode='lines',\n",
    ")\n",
    "\n",
    "FITNESS_LINE = go.Scatter(\n",
    "    name=\"Pontuação Máxima\",\n",
    "    x=list(MAX_FITNESS.keys()),\n",
    "    y=list(MAX_FITNESS.values()),\n",
    "    mode='markers',\n",
    "    marker=dict(color=COLOR_GRAY, symbol=\"triangle-up\"),\n",
    ")\n",
    "\n",
    "\n",
    "BARTOLI_LINE = go.Scatter(\n",
    "    name=\"Genético (Bartoli)\",\n",
    "    x=list(BARTOLI_FITNESS.keys()),\n",
    "    y=list(BARTOLI_FITNESS.values()),\n",
    "    mode='markers',\n",
    "    marker=dict(color=COLOR_RED, symbol=\"square\"),\n",
    ")\n",
    "\n",
    "NORVIG_LINE = go.Scatter(\n",
    "    name=\"Exato (Norvig)\",\n",
    "    x=list(NORVIG_FITNESS.keys()),\n",
    "    y=list(NORVIG_FITNESS.values()),\n",
    "    mode='markers',\n",
    "    marker=dict(color=COLOR_ORANGE, symbol=\"diamond\"),\n",
    ")\n",
    "\n",
    "\n",
    "\n",
    "# Importando os dados\n",
    "ILS_S = pandas.read_csv(\"./depth_2/ILS_Shrink.csv\") #.sort_values(by=['Nome'])\n",
    "\n",
    "DEPTHS = pandas.unique(ILS_S.Depth)\n",
    "DEPTHS.sort()\n",
    "\n",
    "depths = {}\n",
    "for i in DEPTHS:\n",
    "    depths[i] = ILS_S[ILS_S.Depth == i]\n",
    "\n",
    "\n",
    "# Número de timeouts\n",
    "\n",
    "def get_timeout_graph(title, d):\n",
    "    nomes = pandas.unique(d.Nome)\n",
    "    timedout = []\n",
    "    not_timedout = []\n",
    "    \n",
    "    for nome in pandas.unique(d.Nome):\n",
    "            \n",
    "        \n",
    "        i = len(d[(d.Nome == nome) & (d.Timed_out == 0)].Nome)\n",
    "        not_timedout.append(i)\n",
    "\n",
    "        i = len(d[(d.Nome == nome) & (d.Timed_out == 1)].Nome)\n",
    "        timedout.append(i)\n",
    "        \n",
    "    trace1 = go.Bar(\n",
    "        name='ok', \n",
    "        x=nomes,\n",
    "        y=not_timedout,\n",
    "        marker=dict(color=COLOR_GREEN),\n",
    "        textposition='auto',\n",
    "        text=not_timedout)\n",
    "    \n",
    "    trace2 = go.Bar(\n",
    "        name='Timedout',\n",
    "        x=nomes,\n",
    "        y=timedout,\n",
    "        marker=dict(color=COLOR_RED),\n",
    "        textposition='auto',\n",
    "        text=timedout)\n",
    "    \n",
    "    layout = go.Layout(title=title, barmode='stack')\n",
    "    fig = go.Figure(data=[trace1, trace2], layout=layout)\n",
    "    return py.iplot(fig, filename=title)"
   ]
  },
  {
   "cell_type": "code",
   "execution_count": 2,
   "metadata": {},
   "outputs": [
    {
     "data": {
      "text/html": [
       "<iframe id=\"igraph\" scrolling=\"no\" style=\"border:none;\" seamless=\"seamless\" src=\"https://plot.ly/~andrefarzat/1135.embed\" height=\"525px\" width=\"100%\"></iframe>"
      ],
      "text/plain": [
       "<plotly.tools.PlotlyDisplay object>"
      ]
     },
     "execution_count": 2,
     "metadata": {},
     "output_type": "execute_result"
    }
   ],
   "source": [
    "get_timeout_graph('ILS_S 16: ok / Timedout', ILS_S)"
   ]
  },
  {
   "cell_type": "code",
   "execution_count": 3,
   "metadata": {},
   "outputs": [
    {
     "data": {
      "text/html": [
       "<iframe id=\"igraph\" scrolling=\"no\" style=\"border:none;\" seamless=\"seamless\" src=\"https://plot.ly/~andrefarzat/1233.embed\" height=\"525px\" width=\"100%\"></iframe>"
      ],
      "text/plain": [
       "<plotly.tools.PlotlyDisplay object>"
      ]
     },
     "execution_count": 3,
     "metadata": {},
     "output_type": "execute_result"
    }
   ],
   "source": [
    "ONE_MINUTE_LINE = go.Scatter(name=\"1 minute\",\n",
    "                             x=ILS_S.Nome,\n",
    "                             y=[60 for i in ILS_S.Nome],\n",
    "                             mode='lines')\n",
    "\n",
    "TWO_MINUTES_LINE = go.Scatter(name=\"2 minutes\",\n",
    "                              x=ILS_S.Nome,\n",
    "                              y=[120 for i in ILS_S.Nome],\n",
    "                              mode='lines')\n",
    "\n",
    "\n",
    "data = [go.Box(name=\"Depth %s\" % i, x=depth.Nome, y=depth.Tempo_total) for i, depth in depths.items()]\n",
    "data.append(ONE_MINUTE_LINE)\n",
    "# data.append(TWO_MINUTES_LINE)\n",
    "\n",
    "layout = go.Layout(title=\"Tempo total de execução em seconds\",\n",
    "                xaxis=dict(title='Depth'),\n",
    "                yaxis=dict(title='Tempo Total'),\n",
    "                boxmode='group')\n",
    "fig = go.Figure(data=data, layout=layout)\n",
    "py.iplot(fig)\n"
   ]
  },
  {
   "cell_type": "code",
   "execution_count": 4,
   "metadata": {},
   "outputs": [
    {
     "data": {
      "text/html": [
       "<iframe id=\"igraph\" scrolling=\"no\" style=\"border:none;\" seamless=\"seamless\" src=\"https://plot.ly/~andrefarzat/1235.embed\" height=\"525px\" width=\"100%\"></iframe>"
      ],
      "text/plain": [
       "<plotly.tools.PlotlyDisplay object>"
      ]
     },
     "execution_count": 4,
     "metadata": {},
     "output_type": "execute_result"
    }
   ],
   "source": [
    "# Médias de número de comparações para encontrar melhor fitness\n",
    "MAX_LINE = go.Scatter(name=\"500k line\", x=ILS_S.Nome.unique(), y=[500000 for i in range(15)], mode='lines', marker=Marker(color='rgb(77,77,255)'))\n",
    "\n",
    "\n",
    "data = [go.Box(name=\"Depth %s\" % i, x=depth.Nome, y=depth.Numero_de_comparacoes) for i, depth in depths.items()]\n",
    "data.append(MAX_LINE)\n",
    "\n",
    "\n",
    "layout = go.Layout(title=\"Número de comparações até encontrar Melhor Fitness\",\n",
    "                xaxis=dict(title='Instâncias'),\n",
    "                yaxis=dict(title='Quantidade de comprações'),\n",
    "                boxmode='group')\n",
    "fig = go.Figure(data=data, layout=layout)\n",
    "\n",
    "py.iplot(fig)"
   ]
  },
  {
   "cell_type": "code",
   "execution_count": 5,
   "metadata": {},
   "outputs": [
    {
     "data": {
      "text/html": [
       "<iframe id=\"igraph\" scrolling=\"no\" style=\"border:none;\" seamless=\"seamless\" src=\"https://plot.ly/~andrefarzat/1237.embed\" height=\"525px\" width=\"100%\"></iframe>"
      ],
      "text/plain": [
       "<plotly.tools.PlotlyDisplay object>"
      ]
     },
     "execution_count": 5,
     "metadata": {},
     "output_type": "execute_result"
    }
   ],
   "source": [
    "data = [go.Box(name=\"Depth %s\" % i, x=depth.Nome, y=depth.Tempo_para_encontrar_melhor_solucao) for i, depth in depths.items()]\n",
    "data.append(ONE_MINUTE_LINE)\n",
    "data.append(TWO_MINUTES_LINE)\n",
    "\n",
    "layout = go.Layout(title=\"Tempo até encontrar a melhor solução (em segundos)\",\n",
    "                xaxis=dict(title='Instâncias'),\n",
    "                yaxis=dict(title='Tempo até melhor solução'),\n",
    "                boxmode='group')\n",
    "fig = go.Figure(data=data, layout=layout)\n",
    "\n",
    "py.iplot(fig)"
   ]
  },
  {
   "cell_type": "code",
   "execution_count": 6,
   "metadata": {},
   "outputs": [
    {
     "data": {
      "text/html": [
       "<iframe id=\"igraph\" scrolling=\"no\" style=\"border:none;\" seamless=\"seamless\" src=\"https://plot.ly/~andrefarzat/1239.embed\" height=\"525px\" width=\"100%\"></iframe>"
      ],
      "text/plain": [
       "<plotly.tools.PlotlyDisplay object>"
      ]
     },
     "execution_count": 6,
     "metadata": {},
     "output_type": "execute_result"
    }
   ],
   "source": [
    "# Boxplot comparando 'melhor fitness'\n",
    "\n",
    "data = [go.Box(name=\"Depth %s\" % i, x=depth.Nome, y=depth.Melhor_fitness) for i, depth in depths.items()]\n",
    "data.extend([FITNESS_LINE, BARTOLI_LINE, NORVIG_LINE])\n",
    "\n",
    "\n",
    "layout = go.Layout(title=\"Melhor fitness\",\n",
    "                xaxis=dict(title='Instâncias'),\n",
    "                yaxis=dict(title='fitness'),\n",
    "                boxmode='group')\n",
    "fig = go.Figure(data=data, layout=layout)\n",
    "\n",
    "py.iplot(fig)\n"
   ]
  },
  {
   "cell_type": "code",
   "execution_count": null,
   "metadata": {},
   "outputs": [],
   "source": []
  }
 ],
 "metadata": {
  "kernelspec": {
   "display_name": "Python 3",
   "language": "python",
   "name": "python3"
  },
  "language_info": {
   "codemirror_mode": {
    "name": "ipython",
    "version": 3
   },
   "file_extension": ".py",
   "mimetype": "text/x-python",
   "name": "python",
   "nbconvert_exporter": "python",
   "pygments_lexer": "ipython3",
   "version": "3.7.0"
  }
 },
 "nbformat": 4,
 "nbformat_minor": 2
}
